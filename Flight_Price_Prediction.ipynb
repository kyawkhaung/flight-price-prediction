{
 "cells": [
  {
   "cell_type": "markdown",
   "metadata": {},
   "source": [
    "# Predicting Flight Ticket Price"
   ]
  },
  {
   "cell_type": "markdown",
   "metadata": {},
   "source": [
    "### Problem Statement"
   ]
  },
  {
   "cell_type": "markdown",
   "metadata": {},
   "source": [
    "As you all know, flight ticket prices can be something hard to guess. Today we might see a price, check out the price of the same flight tomorrow, it will be a different story. We might have often heard travellers saying that flight ticket prices are so unpredictable. Huh! Here we take on the challenge! As data scientists, we are gonna prove that given the right data anything can be predicted. Here you will be provided with prices of flight tickets for various airlines between the months of March and June of 2019 and between various cities. Data is downloaded from https://www.machinehack.com/hackathons/predict_the_flight_ticket_price_hackathon/overview    \n",
    "\n",
    "Size of training set: 10683 <br> \n",
    "Size of test set: 2671 <br>\n",
    "<b>FEATURES:</b><br/>\n",
    "<b>Airline:</b> The name of the airline.<br/> \n",
    "<b>Date_of_Journey:</b> The date of the journey <br/>\n",
    "<b>Source:</b> The source from which the service begins.<br/>\n",
    "<b>Destination:</b> The destination where the service ends. <br/>\n",
    "<b>Route:</b> The route taken by the flight to reach the destination.<br/>\n",
    "<b>Dep_Time:</b> The time when the journey starts from the source.<br/>\n",
    "<b>Arrival_Time:</b> Time of arrival at the destination.<br/>\n",
    "<b>Duration:</b> Total duration of the flight.<br/>\n",
    "<b>Total_Stops:</b> Total stops between the source and destination. <br/>\n",
    "<b>Additional_Info:</b> Additional information about the flight Price: The price of the ticket\n",
    "\n",
    "### Motivation\n",
    "I bet that everyone is wondering about next vacation - how to spend your money. My family is always having conversation on when and where our next vacation should be. we may have different ideas about where to go for family vacatiion, we all have agreed that ticket price will outrageouly expensive to recover their financial loss from this hibernating period in covid-19. My curiosity of flight ticket price lead me to work on this project to find out what the price would be when we will no longer have to worry about covid-19 and travel restriction is no longer imposed at everywhere. Of course, ticket price prediction may not make sense if you are ouside India although I hope that you may have appreciation on how powerful machine learning models are to perform such a task.\n",
    "\n",
    "### Libraries used in the project\n",
    "1. Jupyter\n",
    "2. Pandas\n",
    "3. Numpy\n",
    "4. Seaborn\n",
    "5. Sklearn\n",
    "6. XGboost\n",
    "7. Random Forest\n",
    "8. Ensembling Models\n",
    "\n",
    "### Sections\n",
    "Following topics will be explored and investigated. \n",
    "1. Import Libraries and Load Data\n",
    "2. Feature Engineering and Data Cleansing\n",
    "3. Data Exploration\n",
    "4. Model Building and Tuning\n",
    "5. Prediction with Test Data\n",
    "6. Export Model for web application use\n",
    "\n",
    "\n",
    "Without further due, let's dive into actual work,"
   ]
  },
  {
   "cell_type": "markdown",
   "metadata": {},
   "source": [
    "# 1. Import Libraries and Load Data"
   ]
  },
  {
   "cell_type": "code",
   "execution_count": 359,
   "metadata": {},
   "outputs": [],
   "source": [
    "import numpy as np \n",
    "import pandas as pd \n",
    "import matplotlib.pyplot as plt\n",
    "import matplotlib.patches as mpatches\n",
    "import matplotlib.gridspec as gridspec \n",
    "import seaborn as sns\n",
    "sns.set_style('whitegrid')\n",
    "\n",
    "import warnings\n",
    "warnings.simplefilter(action='ignore')#to hide annoying warning message for outdated library methods\n",
    "\n",
    "from sklearn.preprocessing import LabelEncoder\n",
    "from sklearn.metrics import mean_squared_error\n",
    "from sklearn.model_selection import cross_val_score, GridSearchCV, KFold, RandomizedSearchCV, train_test_split\n",
    "import math\n",
    "import sklearn.model_selection as ms\n",
    "import sklearn.metrics as sklm\n",
    "\n",
    "import json\n",
    "#import visuals as vs\n",
    "\n",
    "#Use this code to show all columns\n",
    "pd.set_option('display.max_columns', None)\n",
    "pd.set_option('display.max_rows', None)"
   ]
  },
  {
   "cell_type": "markdown",
   "metadata": {},
   "source": [
    "##### Load Data\n",
    "Pandas is used to load data from excel sheet. Let's find out what data looks like. Train dataset will be named as 'a' while Test dataset will be 'b'. Later, we will combine these two datasets to do feature engineering. \n",
    "\n",
    "As you can see, train data has Price and test dataset doesn't have Price, which is target variable that we will be predicting. Train dataset has 10683 observations which consist of indepdendent 10 features and 1 dependant variable - Price, and Test dataset has 2671 observation with 10 independent features. "
   ]
  },
  {
   "cell_type": "code",
   "execution_count": 291,
   "metadata": {},
   "outputs": [],
   "source": [
    "a = pd.read_excel('Data_Train.xlsx')\n",
    "b = pd.read_excel('Test_Set.xlsx')\n",
    "\n",
    "c = a.append(b)# merge a and b for feature engineering in later section"
   ]
  },
  {
   "cell_type": "code",
   "execution_count": 292,
   "metadata": {},
   "outputs": [
    {
     "data": {
      "text/html": [
       "<div>\n",
       "<style scoped>\n",
       "    .dataframe tbody tr th:only-of-type {\n",
       "        vertical-align: middle;\n",
       "    }\n",
       "\n",
       "    .dataframe tbody tr th {\n",
       "        vertical-align: top;\n",
       "    }\n",
       "\n",
       "    .dataframe thead th {\n",
       "        text-align: right;\n",
       "    }\n",
       "</style>\n",
       "<table border=\"1\" class=\"dataframe\">\n",
       "  <thead>\n",
       "    <tr style=\"text-align: right;\">\n",
       "      <th></th>\n",
       "      <th>Airline</th>\n",
       "      <th>Date_of_Journey</th>\n",
       "      <th>Source</th>\n",
       "      <th>Destination</th>\n",
       "      <th>Route</th>\n",
       "      <th>Dep_Time</th>\n",
       "      <th>Arrival_Time</th>\n",
       "      <th>Duration</th>\n",
       "      <th>Total_Stops</th>\n",
       "      <th>Additional_Info</th>\n",
       "      <th>Price</th>\n",
       "    </tr>\n",
       "  </thead>\n",
       "  <tbody>\n",
       "    <tr>\n",
       "      <th>0</th>\n",
       "      <td>IndiGo</td>\n",
       "      <td>24/03/2019</td>\n",
       "      <td>Banglore</td>\n",
       "      <td>New Delhi</td>\n",
       "      <td>BLR → DEL</td>\n",
       "      <td>22:20</td>\n",
       "      <td>01:10 22 Mar</td>\n",
       "      <td>2h 50m</td>\n",
       "      <td>non-stop</td>\n",
       "      <td>No info</td>\n",
       "      <td>3897</td>\n",
       "    </tr>\n",
       "    <tr>\n",
       "      <th>1</th>\n",
       "      <td>Air India</td>\n",
       "      <td>1/05/2019</td>\n",
       "      <td>Kolkata</td>\n",
       "      <td>Banglore</td>\n",
       "      <td>CCU → IXR → BBI → BLR</td>\n",
       "      <td>05:50</td>\n",
       "      <td>13:15</td>\n",
       "      <td>7h 25m</td>\n",
       "      <td>2 stops</td>\n",
       "      <td>No info</td>\n",
       "      <td>7662</td>\n",
       "    </tr>\n",
       "    <tr>\n",
       "      <th>2</th>\n",
       "      <td>Jet Airways</td>\n",
       "      <td>9/06/2019</td>\n",
       "      <td>Delhi</td>\n",
       "      <td>Cochin</td>\n",
       "      <td>DEL → LKO → BOM → COK</td>\n",
       "      <td>09:25</td>\n",
       "      <td>04:25 10 Jun</td>\n",
       "      <td>19h</td>\n",
       "      <td>2 stops</td>\n",
       "      <td>No info</td>\n",
       "      <td>13882</td>\n",
       "    </tr>\n",
       "    <tr>\n",
       "      <th>3</th>\n",
       "      <td>IndiGo</td>\n",
       "      <td>12/05/2019</td>\n",
       "      <td>Kolkata</td>\n",
       "      <td>Banglore</td>\n",
       "      <td>CCU → NAG → BLR</td>\n",
       "      <td>18:05</td>\n",
       "      <td>23:30</td>\n",
       "      <td>5h 25m</td>\n",
       "      <td>1 stop</td>\n",
       "      <td>No info</td>\n",
       "      <td>6218</td>\n",
       "    </tr>\n",
       "    <tr>\n",
       "      <th>4</th>\n",
       "      <td>IndiGo</td>\n",
       "      <td>01/03/2019</td>\n",
       "      <td>Banglore</td>\n",
       "      <td>New Delhi</td>\n",
       "      <td>BLR → NAG → DEL</td>\n",
       "      <td>16:50</td>\n",
       "      <td>21:35</td>\n",
       "      <td>4h 45m</td>\n",
       "      <td>1 stop</td>\n",
       "      <td>No info</td>\n",
       "      <td>13302</td>\n",
       "    </tr>\n",
       "  </tbody>\n",
       "</table>\n",
       "</div>"
      ],
      "text/plain": [
       "       Airline Date_of_Journey    Source Destination                  Route  \\\n",
       "0       IndiGo      24/03/2019  Banglore   New Delhi              BLR → DEL   \n",
       "1    Air India       1/05/2019   Kolkata    Banglore  CCU → IXR → BBI → BLR   \n",
       "2  Jet Airways       9/06/2019     Delhi      Cochin  DEL → LKO → BOM → COK   \n",
       "3       IndiGo      12/05/2019   Kolkata    Banglore        CCU → NAG → BLR   \n",
       "4       IndiGo      01/03/2019  Banglore   New Delhi        BLR → NAG → DEL   \n",
       "\n",
       "  Dep_Time  Arrival_Time Duration Total_Stops Additional_Info  Price  \n",
       "0    22:20  01:10 22 Mar   2h 50m    non-stop         No info   3897  \n",
       "1    05:50         13:15   7h 25m     2 stops         No info   7662  \n",
       "2    09:25  04:25 10 Jun      19h     2 stops         No info  13882  \n",
       "3    18:05         23:30   5h 25m      1 stop         No info   6218  \n",
       "4    16:50         21:35   4h 45m      1 stop         No info  13302  "
      ]
     },
     "execution_count": 292,
     "metadata": {},
     "output_type": "execute_result"
    }
   ],
   "source": [
    "a.head()"
   ]
  },
  {
   "cell_type": "code",
   "execution_count": 293,
   "metadata": {},
   "outputs": [
    {
     "data": {
      "text/plain": [
       "(10683, 11)"
      ]
     },
     "execution_count": 293,
     "metadata": {},
     "output_type": "execute_result"
    }
   ],
   "source": [
    "a.shape"
   ]
  },
  {
   "cell_type": "code",
   "execution_count": 294,
   "metadata": {},
   "outputs": [
    {
     "data": {
      "text/html": [
       "<div>\n",
       "<style scoped>\n",
       "    .dataframe tbody tr th:only-of-type {\n",
       "        vertical-align: middle;\n",
       "    }\n",
       "\n",
       "    .dataframe tbody tr th {\n",
       "        vertical-align: top;\n",
       "    }\n",
       "\n",
       "    .dataframe thead th {\n",
       "        text-align: right;\n",
       "    }\n",
       "</style>\n",
       "<table border=\"1\" class=\"dataframe\">\n",
       "  <thead>\n",
       "    <tr style=\"text-align: right;\">\n",
       "      <th></th>\n",
       "      <th>Airline</th>\n",
       "      <th>Date_of_Journey</th>\n",
       "      <th>Source</th>\n",
       "      <th>Destination</th>\n",
       "      <th>Route</th>\n",
       "      <th>Dep_Time</th>\n",
       "      <th>Arrival_Time</th>\n",
       "      <th>Duration</th>\n",
       "      <th>Total_Stops</th>\n",
       "      <th>Additional_Info</th>\n",
       "    </tr>\n",
       "  </thead>\n",
       "  <tbody>\n",
       "    <tr>\n",
       "      <th>0</th>\n",
       "      <td>Jet Airways</td>\n",
       "      <td>6/06/2019</td>\n",
       "      <td>Delhi</td>\n",
       "      <td>Cochin</td>\n",
       "      <td>DEL → BOM → COK</td>\n",
       "      <td>17:30</td>\n",
       "      <td>04:25 07 Jun</td>\n",
       "      <td>10h 55m</td>\n",
       "      <td>1 stop</td>\n",
       "      <td>No info</td>\n",
       "    </tr>\n",
       "    <tr>\n",
       "      <th>1</th>\n",
       "      <td>IndiGo</td>\n",
       "      <td>12/05/2019</td>\n",
       "      <td>Kolkata</td>\n",
       "      <td>Banglore</td>\n",
       "      <td>CCU → MAA → BLR</td>\n",
       "      <td>06:20</td>\n",
       "      <td>10:20</td>\n",
       "      <td>4h</td>\n",
       "      <td>1 stop</td>\n",
       "      <td>No info</td>\n",
       "    </tr>\n",
       "    <tr>\n",
       "      <th>2</th>\n",
       "      <td>Jet Airways</td>\n",
       "      <td>21/05/2019</td>\n",
       "      <td>Delhi</td>\n",
       "      <td>Cochin</td>\n",
       "      <td>DEL → BOM → COK</td>\n",
       "      <td>19:15</td>\n",
       "      <td>19:00 22 May</td>\n",
       "      <td>23h 45m</td>\n",
       "      <td>1 stop</td>\n",
       "      <td>In-flight meal not included</td>\n",
       "    </tr>\n",
       "    <tr>\n",
       "      <th>3</th>\n",
       "      <td>Multiple carriers</td>\n",
       "      <td>21/05/2019</td>\n",
       "      <td>Delhi</td>\n",
       "      <td>Cochin</td>\n",
       "      <td>DEL → BOM → COK</td>\n",
       "      <td>08:00</td>\n",
       "      <td>21:00</td>\n",
       "      <td>13h</td>\n",
       "      <td>1 stop</td>\n",
       "      <td>No info</td>\n",
       "    </tr>\n",
       "    <tr>\n",
       "      <th>4</th>\n",
       "      <td>Air Asia</td>\n",
       "      <td>24/06/2019</td>\n",
       "      <td>Banglore</td>\n",
       "      <td>Delhi</td>\n",
       "      <td>BLR → DEL</td>\n",
       "      <td>23:55</td>\n",
       "      <td>02:45 25 Jun</td>\n",
       "      <td>2h 50m</td>\n",
       "      <td>non-stop</td>\n",
       "      <td>No info</td>\n",
       "    </tr>\n",
       "  </tbody>\n",
       "</table>\n",
       "</div>"
      ],
      "text/plain": [
       "             Airline Date_of_Journey    Source Destination            Route  \\\n",
       "0        Jet Airways       6/06/2019     Delhi      Cochin  DEL → BOM → COK   \n",
       "1             IndiGo      12/05/2019   Kolkata    Banglore  CCU → MAA → BLR   \n",
       "2        Jet Airways      21/05/2019     Delhi      Cochin  DEL → BOM → COK   \n",
       "3  Multiple carriers      21/05/2019     Delhi      Cochin  DEL → BOM → COK   \n",
       "4           Air Asia      24/06/2019  Banglore       Delhi        BLR → DEL   \n",
       "\n",
       "  Dep_Time  Arrival_Time Duration Total_Stops              Additional_Info  \n",
       "0    17:30  04:25 07 Jun  10h 55m      1 stop                      No info  \n",
       "1    06:20         10:20       4h      1 stop                      No info  \n",
       "2    19:15  19:00 22 May  23h 45m      1 stop  In-flight meal not included  \n",
       "3    08:00         21:00      13h      1 stop                      No info  \n",
       "4    23:55  02:45 25 Jun   2h 50m    non-stop                      No info  "
      ]
     },
     "execution_count": 294,
     "metadata": {},
     "output_type": "execute_result"
    }
   ],
   "source": [
    "b.head()"
   ]
  },
  {
   "cell_type": "code",
   "execution_count": 295,
   "metadata": {},
   "outputs": [
    {
     "data": {
      "text/plain": [
       "(2671, 10)"
      ]
     },
     "execution_count": 295,
     "metadata": {},
     "output_type": "execute_result"
    }
   ],
   "source": [
    "b.shape"
   ]
  },
  {
   "cell_type": "code",
   "execution_count": 296,
   "metadata": {},
   "outputs": [
    {
     "name": "stdout",
     "output_type": "stream",
     "text": [
      "<class 'pandas.core.frame.DataFrame'>\n",
      "RangeIndex: 10683 entries, 0 to 10682\n",
      "Data columns (total 11 columns):\n",
      " #   Column           Non-Null Count  Dtype \n",
      "---  ------           --------------  ----- \n",
      " 0   Airline          10683 non-null  object\n",
      " 1   Date_of_Journey  10683 non-null  object\n",
      " 2   Source           10683 non-null  object\n",
      " 3   Destination      10683 non-null  object\n",
      " 4   Route            10682 non-null  object\n",
      " 5   Dep_Time         10683 non-null  object\n",
      " 6   Arrival_Time     10683 non-null  object\n",
      " 7   Duration         10683 non-null  object\n",
      " 8   Total_Stops      10682 non-null  object\n",
      " 9   Additional_Info  10683 non-null  object\n",
      " 10  Price            10683 non-null  int64 \n",
      "dtypes: int64(1), object(10)\n",
      "memory usage: 918.2+ KB\n"
     ]
    }
   ],
   "source": [
    "a.info()"
   ]
  },
  {
   "cell_type": "markdown",
   "metadata": {},
   "source": [
    "# 2. Feature Enginering and Data Cleansing\n",
    "Data exploration is usualy the first step that data scientis will perform in typical project. However, all 10 features in the dataset are object type and only Price feature is numerical. Thus, instead of performing exploratory data analysis, we will start with feature engineering such as label encoding, creating new data points from existing features, removing treated features from dataset, and formatting date into day, month, and year, etc. \n"
   ]
  },
  {
   "cell_type": "code",
   "execution_count": 297,
   "metadata": {},
   "outputs": [
    {
     "data": {
      "text/html": [
       "<div>\n",
       "<style scoped>\n",
       "    .dataframe tbody tr th:only-of-type {\n",
       "        vertical-align: middle;\n",
       "    }\n",
       "\n",
       "    .dataframe tbody tr th {\n",
       "        vertical-align: top;\n",
       "    }\n",
       "\n",
       "    .dataframe thead th {\n",
       "        text-align: right;\n",
       "    }\n",
       "</style>\n",
       "<table border=\"1\" class=\"dataframe\">\n",
       "  <thead>\n",
       "    <tr style=\"text-align: right;\">\n",
       "      <th></th>\n",
       "      <th>Airline</th>\n",
       "      <th>Date_of_Journey</th>\n",
       "      <th>Source</th>\n",
       "      <th>Destination</th>\n",
       "      <th>Route</th>\n",
       "      <th>Dep_Time</th>\n",
       "      <th>Arrival_Time</th>\n",
       "      <th>Duration</th>\n",
       "      <th>Total_Stops</th>\n",
       "      <th>Additional_Info</th>\n",
       "      <th>Price</th>\n",
       "    </tr>\n",
       "  </thead>\n",
       "  <tbody>\n",
       "    <tr>\n",
       "      <th>0</th>\n",
       "      <td>IndiGo</td>\n",
       "      <td>24/03/2019</td>\n",
       "      <td>Banglore</td>\n",
       "      <td>New Delhi</td>\n",
       "      <td>BLR → DEL</td>\n",
       "      <td>22:20</td>\n",
       "      <td>01:10 22 Mar</td>\n",
       "      <td>2h 50m</td>\n",
       "      <td>non-stop</td>\n",
       "      <td>No info</td>\n",
       "      <td>3897.0</td>\n",
       "    </tr>\n",
       "    <tr>\n",
       "      <th>1</th>\n",
       "      <td>Air India</td>\n",
       "      <td>1/05/2019</td>\n",
       "      <td>Kolkata</td>\n",
       "      <td>Banglore</td>\n",
       "      <td>CCU → IXR → BBI → BLR</td>\n",
       "      <td>05:50</td>\n",
       "      <td>13:15</td>\n",
       "      <td>7h 25m</td>\n",
       "      <td>2 stops</td>\n",
       "      <td>No info</td>\n",
       "      <td>7662.0</td>\n",
       "    </tr>\n",
       "    <tr>\n",
       "      <th>2</th>\n",
       "      <td>Jet Airways</td>\n",
       "      <td>9/06/2019</td>\n",
       "      <td>Delhi</td>\n",
       "      <td>Cochin</td>\n",
       "      <td>DEL → LKO → BOM → COK</td>\n",
       "      <td>09:25</td>\n",
       "      <td>04:25 10 Jun</td>\n",
       "      <td>19h</td>\n",
       "      <td>2 stops</td>\n",
       "      <td>No info</td>\n",
       "      <td>13882.0</td>\n",
       "    </tr>\n",
       "    <tr>\n",
       "      <th>3</th>\n",
       "      <td>IndiGo</td>\n",
       "      <td>12/05/2019</td>\n",
       "      <td>Kolkata</td>\n",
       "      <td>Banglore</td>\n",
       "      <td>CCU → NAG → BLR</td>\n",
       "      <td>18:05</td>\n",
       "      <td>23:30</td>\n",
       "      <td>5h 25m</td>\n",
       "      <td>1 stop</td>\n",
       "      <td>No info</td>\n",
       "      <td>6218.0</td>\n",
       "    </tr>\n",
       "    <tr>\n",
       "      <th>4</th>\n",
       "      <td>IndiGo</td>\n",
       "      <td>01/03/2019</td>\n",
       "      <td>Banglore</td>\n",
       "      <td>New Delhi</td>\n",
       "      <td>BLR → NAG → DEL</td>\n",
       "      <td>16:50</td>\n",
       "      <td>21:35</td>\n",
       "      <td>4h 45m</td>\n",
       "      <td>1 stop</td>\n",
       "      <td>No info</td>\n",
       "      <td>13302.0</td>\n",
       "    </tr>\n",
       "  </tbody>\n",
       "</table>\n",
       "</div>"
      ],
      "text/plain": [
       "       Airline Date_of_Journey    Source Destination                  Route  \\\n",
       "0       IndiGo      24/03/2019  Banglore   New Delhi              BLR → DEL   \n",
       "1    Air India       1/05/2019   Kolkata    Banglore  CCU → IXR → BBI → BLR   \n",
       "2  Jet Airways       9/06/2019     Delhi      Cochin  DEL → LKO → BOM → COK   \n",
       "3       IndiGo      12/05/2019   Kolkata    Banglore        CCU → NAG → BLR   \n",
       "4       IndiGo      01/03/2019  Banglore   New Delhi        BLR → NAG → DEL   \n",
       "\n",
       "  Dep_Time  Arrival_Time Duration Total_Stops Additional_Info    Price  \n",
       "0    22:20  01:10 22 Mar   2h 50m    non-stop         No info   3897.0  \n",
       "1    05:50         13:15   7h 25m     2 stops         No info   7662.0  \n",
       "2    09:25  04:25 10 Jun      19h     2 stops         No info  13882.0  \n",
       "3    18:05         23:30   5h 25m      1 stop         No info   6218.0  \n",
       "4    16:50         21:35   4h 45m      1 stop         No info  13302.0  "
      ]
     },
     "execution_count": 297,
     "metadata": {},
     "output_type": "execute_result"
    }
   ],
   "source": [
    "c.head()"
   ]
  },
  {
   "cell_type": "code",
   "execution_count": 298,
   "metadata": {},
   "outputs": [
    {
     "data": {
      "text/html": [
       "<div>\n",
       "<style scoped>\n",
       "    .dataframe tbody tr th:only-of-type {\n",
       "        vertical-align: middle;\n",
       "    }\n",
       "\n",
       "    .dataframe tbody tr th {\n",
       "        vertical-align: top;\n",
       "    }\n",
       "\n",
       "    .dataframe thead th {\n",
       "        text-align: right;\n",
       "    }\n",
       "</style>\n",
       "<table border=\"1\" class=\"dataframe\">\n",
       "  <thead>\n",
       "    <tr style=\"text-align: right;\">\n",
       "      <th></th>\n",
       "      <th>Airline</th>\n",
       "      <th>Date_of_Journey</th>\n",
       "      <th>Source</th>\n",
       "      <th>Destination</th>\n",
       "      <th>Route</th>\n",
       "      <th>Dep_Time</th>\n",
       "      <th>Arrival_Time</th>\n",
       "      <th>Duration</th>\n",
       "      <th>Total_Stops</th>\n",
       "      <th>Additional_Info</th>\n",
       "      <th>Price</th>\n",
       "    </tr>\n",
       "  </thead>\n",
       "  <tbody>\n",
       "    <tr>\n",
       "      <th>2666</th>\n",
       "      <td>Air India</td>\n",
       "      <td>6/06/2019</td>\n",
       "      <td>Kolkata</td>\n",
       "      <td>Banglore</td>\n",
       "      <td>CCU → DEL → BLR</td>\n",
       "      <td>20:30</td>\n",
       "      <td>20:25 07 Jun</td>\n",
       "      <td>23h 55m</td>\n",
       "      <td>1 stop</td>\n",
       "      <td>No info</td>\n",
       "      <td>NaN</td>\n",
       "    </tr>\n",
       "    <tr>\n",
       "      <th>2667</th>\n",
       "      <td>IndiGo</td>\n",
       "      <td>27/03/2019</td>\n",
       "      <td>Kolkata</td>\n",
       "      <td>Banglore</td>\n",
       "      <td>CCU → BLR</td>\n",
       "      <td>14:20</td>\n",
       "      <td>16:55</td>\n",
       "      <td>2h 35m</td>\n",
       "      <td>non-stop</td>\n",
       "      <td>No info</td>\n",
       "      <td>NaN</td>\n",
       "    </tr>\n",
       "    <tr>\n",
       "      <th>2668</th>\n",
       "      <td>Jet Airways</td>\n",
       "      <td>6/03/2019</td>\n",
       "      <td>Delhi</td>\n",
       "      <td>Cochin</td>\n",
       "      <td>DEL → BOM → COK</td>\n",
       "      <td>21:50</td>\n",
       "      <td>04:25 07 Mar</td>\n",
       "      <td>6h 35m</td>\n",
       "      <td>1 stop</td>\n",
       "      <td>No info</td>\n",
       "      <td>NaN</td>\n",
       "    </tr>\n",
       "    <tr>\n",
       "      <th>2669</th>\n",
       "      <td>Air India</td>\n",
       "      <td>6/03/2019</td>\n",
       "      <td>Delhi</td>\n",
       "      <td>Cochin</td>\n",
       "      <td>DEL → BOM → COK</td>\n",
       "      <td>04:00</td>\n",
       "      <td>19:15</td>\n",
       "      <td>15h 15m</td>\n",
       "      <td>1 stop</td>\n",
       "      <td>No info</td>\n",
       "      <td>NaN</td>\n",
       "    </tr>\n",
       "    <tr>\n",
       "      <th>2670</th>\n",
       "      <td>Multiple carriers</td>\n",
       "      <td>15/06/2019</td>\n",
       "      <td>Delhi</td>\n",
       "      <td>Cochin</td>\n",
       "      <td>DEL → BOM → COK</td>\n",
       "      <td>04:55</td>\n",
       "      <td>19:15</td>\n",
       "      <td>14h 20m</td>\n",
       "      <td>1 stop</td>\n",
       "      <td>No info</td>\n",
       "      <td>NaN</td>\n",
       "    </tr>\n",
       "  </tbody>\n",
       "</table>\n",
       "</div>"
      ],
      "text/plain": [
       "                Airline Date_of_Journey   Source Destination            Route  \\\n",
       "2666          Air India       6/06/2019  Kolkata    Banglore  CCU → DEL → BLR   \n",
       "2667             IndiGo      27/03/2019  Kolkata    Banglore        CCU → BLR   \n",
       "2668        Jet Airways       6/03/2019    Delhi      Cochin  DEL → BOM → COK   \n",
       "2669          Air India       6/03/2019    Delhi      Cochin  DEL → BOM → COK   \n",
       "2670  Multiple carriers      15/06/2019    Delhi      Cochin  DEL → BOM → COK   \n",
       "\n",
       "     Dep_Time  Arrival_Time Duration Total_Stops Additional_Info  Price  \n",
       "2666    20:30  20:25 07 Jun  23h 55m      1 stop         No info    NaN  \n",
       "2667    14:20         16:55   2h 35m    non-stop         No info    NaN  \n",
       "2668    21:50  04:25 07 Mar   6h 35m      1 stop         No info    NaN  \n",
       "2669    04:00         19:15  15h 15m      1 stop         No info    NaN  \n",
       "2670    04:55         19:15  14h 20m      1 stop         No info    NaN  "
      ]
     },
     "execution_count": 298,
     "metadata": {},
     "output_type": "execute_result"
    }
   ],
   "source": [
    "c.tail()"
   ]
  },
  {
   "cell_type": "markdown",
   "metadata": {},
   "source": [
    "Let's start with Total_Stops feature and check if there is any missing value."
   ]
  },
  {
   "cell_type": "code",
   "execution_count": 299,
   "metadata": {},
   "outputs": [
    {
     "data": {
      "text/html": [
       "<div>\n",
       "<style scoped>\n",
       "    .dataframe tbody tr th:only-of-type {\n",
       "        vertical-align: middle;\n",
       "    }\n",
       "\n",
       "    .dataframe tbody tr th {\n",
       "        vertical-align: top;\n",
       "    }\n",
       "\n",
       "    .dataframe thead th {\n",
       "        text-align: right;\n",
       "    }\n",
       "</style>\n",
       "<table border=\"1\" class=\"dataframe\">\n",
       "  <thead>\n",
       "    <tr style=\"text-align: right;\">\n",
       "      <th></th>\n",
       "      <th>Airline</th>\n",
       "      <th>Date_of_Journey</th>\n",
       "      <th>Source</th>\n",
       "      <th>Destination</th>\n",
       "      <th>Route</th>\n",
       "      <th>Dep_Time</th>\n",
       "      <th>Arrival_Time</th>\n",
       "      <th>Duration</th>\n",
       "      <th>Total_Stops</th>\n",
       "      <th>Additional_Info</th>\n",
       "      <th>Price</th>\n",
       "    </tr>\n",
       "  </thead>\n",
       "  <tbody>\n",
       "    <tr>\n",
       "      <th>9039</th>\n",
       "      <td>Air India</td>\n",
       "      <td>6/05/2019</td>\n",
       "      <td>Delhi</td>\n",
       "      <td>Cochin</td>\n",
       "      <td>NaN</td>\n",
       "      <td>09:45</td>\n",
       "      <td>09:25 07 May</td>\n",
       "      <td>23h 40m</td>\n",
       "      <td>NaN</td>\n",
       "      <td>No info</td>\n",
       "      <td>7480.0</td>\n",
       "    </tr>\n",
       "  </tbody>\n",
       "</table>\n",
       "</div>"
      ],
      "text/plain": [
       "        Airline Date_of_Journey Source Destination Route Dep_Time  \\\n",
       "9039  Air India       6/05/2019  Delhi      Cochin   NaN    09:45   \n",
       "\n",
       "      Arrival_Time Duration Total_Stops Additional_Info   Price  \n",
       "9039  09:25 07 May  23h 40m         NaN         No info  7480.0  "
      ]
     },
     "execution_count": 299,
     "metadata": {},
     "output_type": "execute_result"
    }
   ],
   "source": [
    "# check if any missing record is in\n",
    "c[c['Total_Stops'].isnull()]"
   ]
  },
  {
   "cell_type": "code",
   "execution_count": 300,
   "metadata": {},
   "outputs": [],
   "source": [
    "# Only one observation has missing Total_Stops value comparing to other similar observation, \n",
    "# the record should be updated as 1 stop\n",
    "c['Total_Stops'] = c['Total_Stops'].fillna('1 stop')"
   ]
  },
  {
   "cell_type": "code",
   "execution_count": 301,
   "metadata": {},
   "outputs": [
    {
     "data": {
      "text/html": [
       "<div>\n",
       "<style scoped>\n",
       "    .dataframe tbody tr th:only-of-type {\n",
       "        vertical-align: middle;\n",
       "    }\n",
       "\n",
       "    .dataframe tbody tr th {\n",
       "        vertical-align: top;\n",
       "    }\n",
       "\n",
       "    .dataframe thead th {\n",
       "        text-align: right;\n",
       "    }\n",
       "</style>\n",
       "<table border=\"1\" class=\"dataframe\">\n",
       "  <thead>\n",
       "    <tr style=\"text-align: right;\">\n",
       "      <th></th>\n",
       "      <th>Airline</th>\n",
       "      <th>Date_of_Journey</th>\n",
       "      <th>Source</th>\n",
       "      <th>Destination</th>\n",
       "      <th>Route</th>\n",
       "      <th>Dep_Time</th>\n",
       "      <th>Arrival_Time</th>\n",
       "      <th>Duration</th>\n",
       "      <th>Total_Stops</th>\n",
       "      <th>Additional_Info</th>\n",
       "      <th>Price</th>\n",
       "    </tr>\n",
       "  </thead>\n",
       "  <tbody>\n",
       "  </tbody>\n",
       "</table>\n",
       "</div>"
      ],
      "text/plain": [
       "Empty DataFrame\n",
       "Columns: [Airline, Date_of_Journey, Source, Destination, Route, Dep_Time, Arrival_Time, Duration, Total_Stops, Additional_Info, Price]\n",
       "Index: []"
      ]
     },
     "execution_count": 301,
     "metadata": {},
     "output_type": "execute_result"
    }
   ],
   "source": [
    "#verify if missing value has been fill in\n",
    "c[c['Total_Stops'].isnull()]"
   ]
  },
  {
   "cell_type": "code",
   "execution_count": 302,
   "metadata": {},
   "outputs": [
    {
     "data": {
      "text/plain": [
       "1 stop      7057\n",
       "non-stop    4340\n",
       "2 stops     1899\n",
       "3 stops       56\n",
       "4 stops        2\n",
       "Name: Total_Stops, dtype: int64"
      ]
     },
     "execution_count": 302,
     "metadata": {},
     "output_type": "execute_result"
    }
   ],
   "source": [
    "#count total unique stops\n",
    "c['Total_Stops'].value_counts()"
   ]
  },
  {
   "cell_type": "code",
   "execution_count": 303,
   "metadata": {},
   "outputs": [],
   "source": [
    "#convert non-stop to 0 stop since it is no stopping\n",
    "#split data with white space and get 1st index as number and create a new column called Stops\n",
    "#convert new column Stops at interger  \n",
    "c['Total_Stops'] = c['Total_Stops'].replace('non-stop', '0 stop')\n",
    "c['Stops'] = c['Total_Stops'].str.split(' ').str[0]\n",
    "c['Stops'] = c['Stops'].astype(int)"
   ]
  },
  {
   "cell_type": "code",
   "execution_count": 304,
   "metadata": {},
   "outputs": [
    {
     "data": {
      "text/plain": [
       "1    7057\n",
       "0    4340\n",
       "2    1899\n",
       "3      56\n",
       "4       2\n",
       "Name: Stops, dtype: int64"
      ]
     },
     "execution_count": 304,
     "metadata": {},
     "output_type": "execute_result"
    }
   ],
   "source": [
    "c['Stops'].value_counts()"
   ]
  },
  {
   "cell_type": "markdown",
   "metadata": {},
   "source": [
    "Now, start working on Route feature. Data won't make sense unless we split them by using → delimilter. Individual route value is much easier to do label encoding."
   ]
  },
  {
   "cell_type": "code",
   "execution_count": 305,
   "metadata": {},
   "outputs": [],
   "source": [
    "#split using delimter → on Route and create new features\n",
    "c['Route_1'] = c['Route'].str.split('→ ').str[0]\n",
    "c['Route_2'] = c['Route'].str.split('→ ').str[1]\n",
    "c['Route_3'] = c['Route'].str.split('→ ').str[2]\n",
    "c['Route_4'] = c['Route'].str.split('→ ').str[3]\n",
    "c['Route_5'] = c['Route'].str.split('→ ').str[4]"
   ]
  },
  {
   "cell_type": "code",
   "execution_count": 306,
   "metadata": {},
   "outputs": [
    {
     "data": {
      "text/plain": [
       "4"
      ]
     },
     "execution_count": 306,
     "metadata": {},
     "output_type": "execute_result"
    }
   ],
   "source": [
    "#there is white space included while splitting and creating new features. \n",
    "#Any columns from Route_1 to Route_5 should have only 3 characters. Let's check.\n",
    "len(c.iloc[110]['Route_1'])"
   ]
  },
  {
   "cell_type": "code",
   "execution_count": 307,
   "metadata": {},
   "outputs": [],
   "source": [
    "#remove white space\n",
    "c['Route_1'] = c['Route_1'].str.strip()\n",
    "c['Route_2'] = c['Route_2'].str.strip()\n",
    "c['Route_3'] = c['Route_3'].str.strip()\n",
    "c['Route_4'] = c['Route_4'].str.strip()\n",
    "c['Route_5'] = c['Route_5'].str.strip()\n",
    "\n",
    "#fill in \"None\" value in empty cells\n",
    "c['Route_1'].fillna(\"None\",inplace=True)\n",
    "c['Route_2'].fillna(\"None\",inplace=True)\n",
    "c['Route_3'].fillna(\"None\",inplace=True)\n",
    "c['Route_4'].fillna(\"None\",inplace=True)\n",
    "c['Route_5'].fillna(\"None\",inplace=True)"
   ]
  },
  {
   "cell_type": "code",
   "execution_count": 308,
   "metadata": {},
   "outputs": [
    {
     "data": {
      "text/plain": [
       "3"
      ]
     },
     "execution_count": 308,
     "metadata": {},
     "output_type": "execute_result"
    }
   ],
   "source": [
    "#verify extra space is removed\n",
    "len(c.iloc[0]['Route_1'])"
   ]
  },
  {
   "cell_type": "markdown",
   "metadata": {},
   "source": [
    "Now, let's work on Date_of_Journey and split them into Day, Month and Year by using delimter '/'. And, also convert new colums into integer."
   ]
  },
  {
   "cell_type": "code",
   "execution_count": 309,
   "metadata": {},
   "outputs": [],
   "source": [
    "c['Journey_Day'] = c['Date_of_Journey'].str.split('/').str[0]\n",
    "c['Journey_Day'] = c['Journey_Day'].astype(int)\n",
    "\n",
    "c['Journey_Month'] = c['Date_of_Journey'].str.split('/').str[1]\n",
    "c['Journey_Month'] = c['Journey_Month'].astype(int)\n",
    "\n",
    "c['Journey_Year'] = c['Date_of_Journey'].str.split('/').str[2]\n",
    "c['Journey_Year'] = c['Journey_Year'].astype(int)"
   ]
  },
  {
   "cell_type": "markdown",
   "metadata": {},
   "source": [
    "Let's do the same things on Dept_Time, Arrial_Time, Duration."
   ]
  },
  {
   "cell_type": "code",
   "execution_count": 310,
   "metadata": {},
   "outputs": [],
   "source": [
    "c['Departure_Hour'] = c['Dep_Time'].str.split(':').str[0]\n",
    "c['Departure_Hour'] = c['Departure_Hour'].astype(int)\n",
    "\n",
    "c['Departure_Min'] = c['Dep_Time'].str.split(':').str[1]\n",
    "c['Departure_Min'] = c['Departure_Min'].astype(int)\n",
    "\n",
    "c['Arrival_Hour'] = c['Arrival_Time'].str[0:2]\n",
    "c['Arrival_Hour'] = c['Arrival_Hour'].astype(int)\n",
    "\n",
    "c['Arrival_Min'] = c['Arrival_Time'].str[3:5]\n",
    "c['Arrival_Min'] = c['Arrival_Min'].astype(int)\n",
    "\n",
    "c['Duration_Hour']  = c['Duration'].str.split(' ').str[0]\n",
    "c['Duration_Min']  = c['Duration'].str.split(' ').str[1]\n",
    "\n",
    "c['Duration_Hour']  = c['Duration_Hour'].str.split('h').str[0]\n",
    "c['Duration_Min']  = c['Duration_Min'].str.split('m').str[0]\n",
    "c['Duration_Hour'] = c['Duration_Hour'].fillna(0)\n",
    "c['Duration_Min'] = c['Duration_Min'].fillna(0)\n",
    "\n",
    "c['Duration_Hour'] = c['Duration_Hour'].replace('5m', '50')\n",
    "c['Duration_Hour'] = c['Duration_Hour'].astype(int)\n",
    "c['Duration_Min'] = c['Duration_Min'].astype(int)"
   ]
  },
  {
   "cell_type": "code",
   "execution_count": 311,
   "metadata": {},
   "outputs": [],
   "source": [
    "#drop origianl columns since we get new features dervied from them.\n",
    "c.drop(['Date_of_Journey', 'Dep_Time', 'Arrival_Time', 'Duration', 'Total_Stops'],\n",
    "       inplace=True, axis=1)"
   ]
  },
  {
   "cell_type": "code",
   "execution_count": 312,
   "metadata": {},
   "outputs": [
    {
     "data": {
      "text/html": [
       "<div>\n",
       "<style scoped>\n",
       "    .dataframe tbody tr th:only-of-type {\n",
       "        vertical-align: middle;\n",
       "    }\n",
       "\n",
       "    .dataframe tbody tr th {\n",
       "        vertical-align: top;\n",
       "    }\n",
       "\n",
       "    .dataframe thead th {\n",
       "        text-align: right;\n",
       "    }\n",
       "</style>\n",
       "<table border=\"1\" class=\"dataframe\">\n",
       "  <thead>\n",
       "    <tr style=\"text-align: right;\">\n",
       "      <th></th>\n",
       "      <th>Airline</th>\n",
       "      <th>Source</th>\n",
       "      <th>Destination</th>\n",
       "      <th>Route</th>\n",
       "      <th>Additional_Info</th>\n",
       "      <th>Price</th>\n",
       "      <th>Stops</th>\n",
       "      <th>Route_1</th>\n",
       "      <th>Route_2</th>\n",
       "      <th>Route_3</th>\n",
       "      <th>Route_4</th>\n",
       "      <th>Route_5</th>\n",
       "      <th>Journey_Day</th>\n",
       "      <th>Journey_Month</th>\n",
       "      <th>Journey_Year</th>\n",
       "      <th>Departure_Hour</th>\n",
       "      <th>Departure_Min</th>\n",
       "      <th>Arrival_Hour</th>\n",
       "      <th>Arrival_Min</th>\n",
       "      <th>Duration_Hour</th>\n",
       "      <th>Duration_Min</th>\n",
       "    </tr>\n",
       "  </thead>\n",
       "  <tbody>\n",
       "    <tr>\n",
       "      <th>0</th>\n",
       "      <td>IndiGo</td>\n",
       "      <td>Banglore</td>\n",
       "      <td>New Delhi</td>\n",
       "      <td>BLR → DEL</td>\n",
       "      <td>No info</td>\n",
       "      <td>3897.0</td>\n",
       "      <td>0</td>\n",
       "      <td>BLR</td>\n",
       "      <td>DEL</td>\n",
       "      <td>None</td>\n",
       "      <td>None</td>\n",
       "      <td>None</td>\n",
       "      <td>24</td>\n",
       "      <td>3</td>\n",
       "      <td>2019</td>\n",
       "      <td>22</td>\n",
       "      <td>20</td>\n",
       "      <td>1</td>\n",
       "      <td>10</td>\n",
       "      <td>2</td>\n",
       "      <td>50</td>\n",
       "    </tr>\n",
       "    <tr>\n",
       "      <th>1</th>\n",
       "      <td>Air India</td>\n",
       "      <td>Kolkata</td>\n",
       "      <td>Banglore</td>\n",
       "      <td>CCU → IXR → BBI → BLR</td>\n",
       "      <td>No info</td>\n",
       "      <td>7662.0</td>\n",
       "      <td>2</td>\n",
       "      <td>CCU</td>\n",
       "      <td>IXR</td>\n",
       "      <td>BBI</td>\n",
       "      <td>BLR</td>\n",
       "      <td>None</td>\n",
       "      <td>1</td>\n",
       "      <td>5</td>\n",
       "      <td>2019</td>\n",
       "      <td>5</td>\n",
       "      <td>50</td>\n",
       "      <td>13</td>\n",
       "      <td>15</td>\n",
       "      <td>7</td>\n",
       "      <td>25</td>\n",
       "    </tr>\n",
       "    <tr>\n",
       "      <th>2</th>\n",
       "      <td>Jet Airways</td>\n",
       "      <td>Delhi</td>\n",
       "      <td>Cochin</td>\n",
       "      <td>DEL → LKO → BOM → COK</td>\n",
       "      <td>No info</td>\n",
       "      <td>13882.0</td>\n",
       "      <td>2</td>\n",
       "      <td>DEL</td>\n",
       "      <td>LKO</td>\n",
       "      <td>BOM</td>\n",
       "      <td>COK</td>\n",
       "      <td>None</td>\n",
       "      <td>9</td>\n",
       "      <td>6</td>\n",
       "      <td>2019</td>\n",
       "      <td>9</td>\n",
       "      <td>25</td>\n",
       "      <td>4</td>\n",
       "      <td>25</td>\n",
       "      <td>19</td>\n",
       "      <td>0</td>\n",
       "    </tr>\n",
       "    <tr>\n",
       "      <th>3</th>\n",
       "      <td>IndiGo</td>\n",
       "      <td>Kolkata</td>\n",
       "      <td>Banglore</td>\n",
       "      <td>CCU → NAG → BLR</td>\n",
       "      <td>No info</td>\n",
       "      <td>6218.0</td>\n",
       "      <td>1</td>\n",
       "      <td>CCU</td>\n",
       "      <td>NAG</td>\n",
       "      <td>BLR</td>\n",
       "      <td>None</td>\n",
       "      <td>None</td>\n",
       "      <td>12</td>\n",
       "      <td>5</td>\n",
       "      <td>2019</td>\n",
       "      <td>18</td>\n",
       "      <td>5</td>\n",
       "      <td>23</td>\n",
       "      <td>30</td>\n",
       "      <td>5</td>\n",
       "      <td>25</td>\n",
       "    </tr>\n",
       "    <tr>\n",
       "      <th>4</th>\n",
       "      <td>IndiGo</td>\n",
       "      <td>Banglore</td>\n",
       "      <td>New Delhi</td>\n",
       "      <td>BLR → NAG → DEL</td>\n",
       "      <td>No info</td>\n",
       "      <td>13302.0</td>\n",
       "      <td>1</td>\n",
       "      <td>BLR</td>\n",
       "      <td>NAG</td>\n",
       "      <td>DEL</td>\n",
       "      <td>None</td>\n",
       "      <td>None</td>\n",
       "      <td>1</td>\n",
       "      <td>3</td>\n",
       "      <td>2019</td>\n",
       "      <td>16</td>\n",
       "      <td>50</td>\n",
       "      <td>21</td>\n",
       "      <td>35</td>\n",
       "      <td>4</td>\n",
       "      <td>45</td>\n",
       "    </tr>\n",
       "  </tbody>\n",
       "</table>\n",
       "</div>"
      ],
      "text/plain": [
       "       Airline    Source Destination                  Route Additional_Info  \\\n",
       "0       IndiGo  Banglore   New Delhi              BLR → DEL         No info   \n",
       "1    Air India   Kolkata    Banglore  CCU → IXR → BBI → BLR         No info   \n",
       "2  Jet Airways     Delhi      Cochin  DEL → LKO → BOM → COK         No info   \n",
       "3       IndiGo   Kolkata    Banglore        CCU → NAG → BLR         No info   \n",
       "4       IndiGo  Banglore   New Delhi        BLR → NAG → DEL         No info   \n",
       "\n",
       "     Price  Stops Route_1 Route_2 Route_3 Route_4 Route_5  Journey_Day  \\\n",
       "0   3897.0      0     BLR     DEL    None    None    None           24   \n",
       "1   7662.0      2     CCU     IXR     BBI     BLR    None            1   \n",
       "2  13882.0      2     DEL     LKO     BOM     COK    None            9   \n",
       "3   6218.0      1     CCU     NAG     BLR    None    None           12   \n",
       "4  13302.0      1     BLR     NAG     DEL    None    None            1   \n",
       "\n",
       "   Journey_Month  Journey_Year  Departure_Hour  Departure_Min  Arrival_Hour  \\\n",
       "0              3          2019              22             20             1   \n",
       "1              5          2019               5             50            13   \n",
       "2              6          2019               9             25             4   \n",
       "3              5          2019              18              5            23   \n",
       "4              3          2019              16             50            21   \n",
       "\n",
       "   Arrival_Min  Duration_Hour  Duration_Min  \n",
       "0           10              2            50  \n",
       "1           15              7            25  \n",
       "2           25             19             0  \n",
       "3           30              5            25  \n",
       "4           35              4            45  "
      ]
     },
     "execution_count": 312,
     "metadata": {},
     "output_type": "execute_result"
    }
   ],
   "source": [
    "#a quick look on dataset with new features\n",
    "c.head()"
   ]
  },
  {
   "cell_type": "code",
   "execution_count": 313,
   "metadata": {},
   "outputs": [
    {
     "name": "stdout",
     "output_type": "stream",
     "text": [
      "No info                         10493\n",
      "In-flight meal not included      2426\n",
      "No check-in baggage included      396\n",
      "1 Long layover                     20\n",
      "Change airports                     8\n",
      "Business class                      5\n",
      "No Info                             3\n",
      "2 Long layover                      1\n",
      "1 Short layover                     1\n",
      "Red-eye flight                      1\n",
      "Name: Additional_Info, dtype: int64\n"
     ]
    }
   ],
   "source": [
    "print(c['Additional_Info'].value_counts())"
   ]
  },
  {
   "cell_type": "code",
   "execution_count": 314,
   "metadata": {},
   "outputs": [],
   "source": [
    "#Make No info and No Info same\n",
    "c['Additional_Info'] = c['Additional_Info'].replace('No Info','No info' )"
   ]
  },
  {
   "cell_type": "markdown",
   "metadata": {},
   "source": [
    "Before moving on to another section, let's quickly check on \"Price\" target vairable if there is empty values. \n",
    "Note that checking should be dataset 'a', not at 'c' because c is combination of both dataset 'a' and 'b', which \"Price\" is empty. "
   ]
  },
  {
   "cell_type": "code",
   "execution_count": 315,
   "metadata": {},
   "outputs": [
    {
     "data": {
      "text/html": [
       "<div>\n",
       "<style scoped>\n",
       "    .dataframe tbody tr th:only-of-type {\n",
       "        vertical-align: middle;\n",
       "    }\n",
       "\n",
       "    .dataframe tbody tr th {\n",
       "        vertical-align: top;\n",
       "    }\n",
       "\n",
       "    .dataframe thead th {\n",
       "        text-align: right;\n",
       "    }\n",
       "</style>\n",
       "<table border=\"1\" class=\"dataframe\">\n",
       "  <thead>\n",
       "    <tr style=\"text-align: right;\">\n",
       "      <th></th>\n",
       "      <th>Airline</th>\n",
       "      <th>Date_of_Journey</th>\n",
       "      <th>Source</th>\n",
       "      <th>Destination</th>\n",
       "      <th>Route</th>\n",
       "      <th>Dep_Time</th>\n",
       "      <th>Arrival_Time</th>\n",
       "      <th>Duration</th>\n",
       "      <th>Total_Stops</th>\n",
       "      <th>Additional_Info</th>\n",
       "      <th>Price</th>\n",
       "    </tr>\n",
       "  </thead>\n",
       "  <tbody>\n",
       "  </tbody>\n",
       "</table>\n",
       "</div>"
      ],
      "text/plain": [
       "Empty DataFrame\n",
       "Columns: [Airline, Date_of_Journey, Source, Destination, Route, Dep_Time, Arrival_Time, Duration, Total_Stops, Additional_Info, Price]\n",
       "Index: []"
      ]
     },
     "execution_count": 315,
     "metadata": {},
     "output_type": "execute_result"
    }
   ],
   "source": [
    "a[a['Price'].isnull()]"
   ]
  },
  {
   "cell_type": "markdown",
   "metadata": {},
   "source": [
    "Let's create a json dictionary for Source and Destination. Individual label encoding will create different number assigned to same value . e.g. Mumbai could be '1' in Source while assign '3' in Destination. By doing so will be helpful when building Flask web application for model prediction.  "
   ]
  },
  {
   "cell_type": "code",
   "execution_count": 316,
   "metadata": {},
   "outputs": [],
   "source": [
    "# generate unique dicdtionary for Source and Destination Airports and apply a sequential number so that \n",
    "# when using with web application, those values can be assigned.\n",
    "lsSource = []\n",
    "for s in c['Source']:\n",
    "    lsSource.append(s)"
   ]
  },
  {
   "cell_type": "code",
   "execution_count": 317,
   "metadata": {},
   "outputs": [],
   "source": [
    "lsDestination = []\n",
    "for s in c['Destination']:\n",
    "    lsDestination.append(s)"
   ]
  },
  {
   "cell_type": "code",
   "execution_count": 318,
   "metadata": {},
   "outputs": [],
   "source": [
    "#merge two lists - source + destination\n",
    "lsSource.extend(lsDestination)"
   ]
  },
  {
   "cell_type": "code",
   "execution_count": 319,
   "metadata": {},
   "outputs": [],
   "source": [
    "#set to unique and convert to list\n",
    "lsSource = list(set(lsSource))"
   ]
  },
  {
   "cell_type": "code",
   "execution_count": 320,
   "metadata": {},
   "outputs": [],
   "source": [
    "keySource = []\n",
    "for k in range(len(lsSource)):\n",
    "    keySource.append(k + 1)"
   ]
  },
  {
   "cell_type": "code",
   "execution_count": 321,
   "metadata": {},
   "outputs": [
    {
     "data": {
      "text/plain": [
       "{'Hyderabad': 1,\n",
       " 'Banglore': 2,\n",
       " 'Delhi': 3,\n",
       " 'Chennai': 4,\n",
       " 'Kolkata': 5,\n",
       " 'Cochin': 6,\n",
       " 'New Delhi': 7,\n",
       " 'Mumbai': 8}"
      ]
     },
     "execution_count": 321,
     "metadata": {},
     "output_type": "execute_result"
    }
   ],
   "source": [
    "dictSource = dict(zip(lsSource, [k + 1 for k in range(len(lsSource))]))\n",
    "dictSource"
   ]
  },
  {
   "cell_type": "code",
   "execution_count": 322,
   "metadata": {},
   "outputs": [],
   "source": [
    "#create common function to be used for generating json files\n",
    "def create_json_list(dictionaryData):\n",
    "    jsonList = []\n",
    "    for key, value in dictionaryData.items():#.iteritems():\n",
    "        tempDict = dict()\n",
    "        tempDict['name'] = key\n",
    "        tempDict['code'] = value\n",
    "    #temp = [key,value]\n",
    "        jsonList.append(tempDict)\n",
    "    return jsonList"
   ]
  },
  {
   "cell_type": "code",
   "execution_count": 323,
   "metadata": {},
   "outputs": [
    {
     "data": {
      "text/plain": [
       "[{'name': 'Hyderabad', 'code': 1},\n",
       " {'name': 'Banglore', 'code': 2},\n",
       " {'name': 'Delhi', 'code': 3},\n",
       " {'name': 'Chennai', 'code': 4},\n",
       " {'name': 'Kolkata', 'code': 5},\n",
       " {'name': 'Cochin', 'code': 6},\n",
       " {'name': 'New Delhi', 'code': 7},\n",
       " {'name': 'Mumbai', 'code': 8}]"
      ]
     },
     "execution_count": 323,
     "metadata": {},
     "output_type": "execute_result"
    }
   ],
   "source": [
    "locationList = create_json_list(dictSource)\n",
    "locationList"
   ]
  },
  {
   "cell_type": "code",
   "execution_count": 324,
   "metadata": {},
   "outputs": [],
   "source": [
    "#generate json file for location\n",
    "with open('locations.json', 'w') as f:\n",
    "    json.dump(locationList, f)"
   ]
  },
  {
   "cell_type": "code",
   "execution_count": 325,
   "metadata": {},
   "outputs": [],
   "source": [
    "#c['Route'].str.split('→ ')"
   ]
  },
  {
   "cell_type": "code",
   "execution_count": 326,
   "metadata": {},
   "outputs": [],
   "source": [
    "c[c['Route'].isnull()]\n",
    "c['Route'] = c['Route'].fillna(value='DEL→ BOM→ COK')"
   ]
  },
  {
   "cell_type": "code",
   "execution_count": 327,
   "metadata": {},
   "outputs": [
    {
     "name": "stdout",
     "output_type": "stream",
     "text": [
      "<class 'list'>\n",
      "['GWL', 'LKO', 'DED', 'GOI', 'BDQ', 'VTZ', 'GAU', 'BHO', 'RPR', 'COK', 'UDR', 'IDR', 'IXB', 'IXA', 'TIR', 'VNS', 'JLR', 'BBI', 'ATQ', 'ISK', 'JDH', 'IXC', 'AMD', 'TRV', 'BLR', 'KNU', 'DEL', 'BOM', 'NDC', 'PAT', 'IMF', 'IXZ', 'HYD', 'STV', 'NAG', 'IXR', 'PNQ', 'IXU', 'HBX', 'JAI', 'VGA', 'CCU', 'MAA']\n"
     ]
    }
   ],
   "source": [
    "# generate unique dicdtionary for Routes and apply a sequential number so that \n",
    "# when using with web application, those values can be assigned.\n",
    "lsRoute = []\n",
    "for r in c['Route'].str.split('→ '):\n",
    "    #print(r)\n",
    "    for loc in r:\n",
    "        #print(loc)\n",
    "        lsRoute.append(str(loc.strip()))\n",
    "\n",
    "lsRoute = list(set(lsRoute))\n",
    "print(type(lsRoute))\n",
    "print(lsRoute)"
   ]
  },
  {
   "cell_type": "code",
   "execution_count": 328,
   "metadata": {},
   "outputs": [],
   "source": [
    "keyRoute = []\n",
    "for k in range(len(lsRoute)):\n",
    "    keyRoute.append(k + 1)"
   ]
  },
  {
   "cell_type": "code",
   "execution_count": 329,
   "metadata": {},
   "outputs": [],
   "source": [
    "dictRoute = dict(zip(lsRoute, [k + 1 for k in range(len(lsRoute))]))"
   ]
  },
  {
   "cell_type": "code",
   "execution_count": 330,
   "metadata": {},
   "outputs": [
    {
     "name": "stdout",
     "output_type": "stream",
     "text": [
      "{'GWL': 1, 'LKO': 2, 'DED': 3, 'GOI': 4, 'BDQ': 5, 'VTZ': 6, 'GAU': 7, 'BHO': 8, 'RPR': 9, 'COK': 10, 'UDR': 11, 'IDR': 12, 'IXB': 13, 'IXA': 14, 'TIR': 15, 'VNS': 16, 'JLR': 17, 'BBI': 18, 'ATQ': 19, 'ISK': 20, 'JDH': 21, 'IXC': 22, 'AMD': 23, 'TRV': 24, 'BLR': 25, 'KNU': 26, 'DEL': 27, 'BOM': 28, 'NDC': 29, 'PAT': 30, 'IMF': 31, 'IXZ': 32, 'HYD': 33, 'STV': 34, 'NAG': 35, 'IXR': 36, 'PNQ': 37, 'IXU': 38, 'HBX': 39, 'JAI': 40, 'VGA': 41, 'CCU': 42, 'MAA': 43, 'None': 0}\n"
     ]
    }
   ],
   "source": [
    "#dictRoute.update({'None': 0})\n",
    "dictRoute['None'] =  0\n",
    "print(dictRoute)"
   ]
  },
  {
   "cell_type": "code",
   "execution_count": 331,
   "metadata": {},
   "outputs": [],
   "source": [
    "routeList = create_json_list(dictRoute)"
   ]
  },
  {
   "cell_type": "code",
   "execution_count": 332,
   "metadata": {},
   "outputs": [],
   "source": [
    "with open('routes.json', 'w') as f:\n",
    "    json.dump(routeList, f)"
   ]
  },
  {
   "cell_type": "code",
   "execution_count": 333,
   "metadata": {},
   "outputs": [],
   "source": [
    "convert_to_num = { \"Source\":     dictSource,\n",
    "                    \"Destination\": dictSource,\n",
    "                   \"Route_1\": dictRoute,\n",
    "                   \"Route_2\": dictRoute,\n",
    "                   \"Route_3\": dictRoute,\n",
    "                   \"Route_4\": dictRoute,\n",
    "                   \"Route_5\": dictRoute}"
   ]
  },
  {
   "cell_type": "code",
   "execution_count": 334,
   "metadata": {},
   "outputs": [
    {
     "data": {
      "text/plain": [
       "3"
      ]
     },
     "execution_count": 334,
     "metadata": {},
     "output_type": "execute_result"
    }
   ],
   "source": [
    "#verifying Route columns should not have white space\n",
    "len(c.iloc[0]['Route_1'])"
   ]
  },
  {
   "cell_type": "code",
   "execution_count": 335,
   "metadata": {},
   "outputs": [
    {
     "data": {
      "text/html": [
       "<div>\n",
       "<style scoped>\n",
       "    .dataframe tbody tr th:only-of-type {\n",
       "        vertical-align: middle;\n",
       "    }\n",
       "\n",
       "    .dataframe tbody tr th {\n",
       "        vertical-align: top;\n",
       "    }\n",
       "\n",
       "    .dataframe thead th {\n",
       "        text-align: right;\n",
       "    }\n",
       "</style>\n",
       "<table border=\"1\" class=\"dataframe\">\n",
       "  <thead>\n",
       "    <tr style=\"text-align: right;\">\n",
       "      <th></th>\n",
       "      <th>Airline</th>\n",
       "      <th>Source</th>\n",
       "      <th>Destination</th>\n",
       "      <th>Route</th>\n",
       "      <th>Additional_Info</th>\n",
       "      <th>Price</th>\n",
       "      <th>Stops</th>\n",
       "      <th>Route_1</th>\n",
       "      <th>Route_2</th>\n",
       "      <th>Route_3</th>\n",
       "      <th>Route_4</th>\n",
       "      <th>Route_5</th>\n",
       "      <th>Journey_Day</th>\n",
       "      <th>Journey_Month</th>\n",
       "      <th>Journey_Year</th>\n",
       "      <th>Departure_Hour</th>\n",
       "      <th>Departure_Min</th>\n",
       "      <th>Arrival_Hour</th>\n",
       "      <th>Arrival_Min</th>\n",
       "      <th>Duration_Hour</th>\n",
       "      <th>Duration_Min</th>\n",
       "    </tr>\n",
       "  </thead>\n",
       "  <tbody>\n",
       "    <tr>\n",
       "      <th>0</th>\n",
       "      <td>IndiGo</td>\n",
       "      <td>2</td>\n",
       "      <td>7</td>\n",
       "      <td>BLR → DEL</td>\n",
       "      <td>No info</td>\n",
       "      <td>3897.0</td>\n",
       "      <td>0</td>\n",
       "      <td>25</td>\n",
       "      <td>27</td>\n",
       "      <td>0</td>\n",
       "      <td>0</td>\n",
       "      <td>0</td>\n",
       "      <td>24</td>\n",
       "      <td>3</td>\n",
       "      <td>2019</td>\n",
       "      <td>22</td>\n",
       "      <td>20</td>\n",
       "      <td>1</td>\n",
       "      <td>10</td>\n",
       "      <td>2</td>\n",
       "      <td>50</td>\n",
       "    </tr>\n",
       "    <tr>\n",
       "      <th>1</th>\n",
       "      <td>Air India</td>\n",
       "      <td>5</td>\n",
       "      <td>2</td>\n",
       "      <td>CCU → IXR → BBI → BLR</td>\n",
       "      <td>No info</td>\n",
       "      <td>7662.0</td>\n",
       "      <td>2</td>\n",
       "      <td>42</td>\n",
       "      <td>36</td>\n",
       "      <td>18</td>\n",
       "      <td>25</td>\n",
       "      <td>0</td>\n",
       "      <td>1</td>\n",
       "      <td>5</td>\n",
       "      <td>2019</td>\n",
       "      <td>5</td>\n",
       "      <td>50</td>\n",
       "      <td>13</td>\n",
       "      <td>15</td>\n",
       "      <td>7</td>\n",
       "      <td>25</td>\n",
       "    </tr>\n",
       "    <tr>\n",
       "      <th>2</th>\n",
       "      <td>Jet Airways</td>\n",
       "      <td>3</td>\n",
       "      <td>6</td>\n",
       "      <td>DEL → LKO → BOM → COK</td>\n",
       "      <td>No info</td>\n",
       "      <td>13882.0</td>\n",
       "      <td>2</td>\n",
       "      <td>27</td>\n",
       "      <td>2</td>\n",
       "      <td>28</td>\n",
       "      <td>10</td>\n",
       "      <td>0</td>\n",
       "      <td>9</td>\n",
       "      <td>6</td>\n",
       "      <td>2019</td>\n",
       "      <td>9</td>\n",
       "      <td>25</td>\n",
       "      <td>4</td>\n",
       "      <td>25</td>\n",
       "      <td>19</td>\n",
       "      <td>0</td>\n",
       "    </tr>\n",
       "    <tr>\n",
       "      <th>3</th>\n",
       "      <td>IndiGo</td>\n",
       "      <td>5</td>\n",
       "      <td>2</td>\n",
       "      <td>CCU → NAG → BLR</td>\n",
       "      <td>No info</td>\n",
       "      <td>6218.0</td>\n",
       "      <td>1</td>\n",
       "      <td>42</td>\n",
       "      <td>35</td>\n",
       "      <td>25</td>\n",
       "      <td>0</td>\n",
       "      <td>0</td>\n",
       "      <td>12</td>\n",
       "      <td>5</td>\n",
       "      <td>2019</td>\n",
       "      <td>18</td>\n",
       "      <td>5</td>\n",
       "      <td>23</td>\n",
       "      <td>30</td>\n",
       "      <td>5</td>\n",
       "      <td>25</td>\n",
       "    </tr>\n",
       "    <tr>\n",
       "      <th>4</th>\n",
       "      <td>IndiGo</td>\n",
       "      <td>2</td>\n",
       "      <td>7</td>\n",
       "      <td>BLR → NAG → DEL</td>\n",
       "      <td>No info</td>\n",
       "      <td>13302.0</td>\n",
       "      <td>1</td>\n",
       "      <td>25</td>\n",
       "      <td>35</td>\n",
       "      <td>27</td>\n",
       "      <td>0</td>\n",
       "      <td>0</td>\n",
       "      <td>1</td>\n",
       "      <td>3</td>\n",
       "      <td>2019</td>\n",
       "      <td>16</td>\n",
       "      <td>50</td>\n",
       "      <td>21</td>\n",
       "      <td>35</td>\n",
       "      <td>4</td>\n",
       "      <td>45</td>\n",
       "    </tr>\n",
       "  </tbody>\n",
       "</table>\n",
       "</div>"
      ],
      "text/plain": [
       "       Airline  Source  Destination                  Route Additional_Info  \\\n",
       "0       IndiGo       2            7              BLR → DEL         No info   \n",
       "1    Air India       5            2  CCU → IXR → BBI → BLR         No info   \n",
       "2  Jet Airways       3            6  DEL → LKO → BOM → COK         No info   \n",
       "3       IndiGo       5            2        CCU → NAG → BLR         No info   \n",
       "4       IndiGo       2            7        BLR → NAG → DEL         No info   \n",
       "\n",
       "     Price  Stops  Route_1  Route_2  Route_3  Route_4  Route_5  Journey_Day  \\\n",
       "0   3897.0      0       25       27        0        0        0           24   \n",
       "1   7662.0      2       42       36       18       25        0            1   \n",
       "2  13882.0      2       27        2       28       10        0            9   \n",
       "3   6218.0      1       42       35       25        0        0           12   \n",
       "4  13302.0      1       25       35       27        0        0            1   \n",
       "\n",
       "   Journey_Month  Journey_Year  Departure_Hour  Departure_Min  Arrival_Hour  \\\n",
       "0              3          2019              22             20             1   \n",
       "1              5          2019               5             50            13   \n",
       "2              6          2019               9             25             4   \n",
       "3              5          2019              18              5            23   \n",
       "4              3          2019              16             50            21   \n",
       "\n",
       "   Arrival_Min  Duration_Hour  Duration_Min  \n",
       "0           10              2            50  \n",
       "1           15              7            25  \n",
       "2           25             19             0  \n",
       "3           30              5            25  \n",
       "4           35              4            45  "
      ]
     },
     "execution_count": 335,
     "metadata": {},
     "output_type": "execute_result"
    }
   ],
   "source": [
    "#apply \n",
    "c.replace(convert_to_num, inplace=True)\n",
    "c.head()"
   ]
  },
  {
   "cell_type": "code",
   "execution_count": 336,
   "metadata": {},
   "outputs": [
    {
     "name": "stdout",
     "output_type": "stream",
     "text": [
      "{'Air Asia': 0, 'Air India': 1, 'GoAir': 2, 'IndiGo': 3, 'Jet Airways': 4, 'Jet Airways Business': 5, 'Multiple carriers': 6, 'Multiple carriers Premium economy': 7, 'SpiceJet': 8, 'Trujet': 9, 'Vistara': 10, 'Vistara Premium economy': 11}\n"
     ]
    }
   ],
   "source": [
    "le = LabelEncoder()\n",
    "c['Airline'] = le.fit_transform(c['Airline'])\n",
    "le_name_mapping = dict(zip(le.classes_, le.transform(le.classes_)))\n",
    "print(le_name_mapping)"
   ]
  },
  {
   "cell_type": "code",
   "execution_count": 337,
   "metadata": {},
   "outputs": [
    {
     "data": {
      "text/plain": [
       "[{'name': 'Air Asia', 'code': 0},\n",
       " {'name': 'Air India', 'code': 1},\n",
       " {'name': 'GoAir', 'code': 2},\n",
       " {'name': 'IndiGo', 'code': 3},\n",
       " {'name': 'Jet Airways', 'code': 4},\n",
       " {'name': 'Jet Airways Business', 'code': 5},\n",
       " {'name': 'Multiple carriers', 'code': 6},\n",
       " {'name': 'Multiple carriers Premium economy', 'code': 7},\n",
       " {'name': 'SpiceJet', 'code': 8},\n",
       " {'name': 'Trujet', 'code': 9},\n",
       " {'name': 'Vistara', 'code': 10},\n",
       " {'name': 'Vistara Premium economy', 'code': 11}]"
      ]
     },
     "execution_count": 337,
     "metadata": {},
     "output_type": "execute_result"
    }
   ],
   "source": [
    "airlineList = create_json_list(le_name_mapping)\n",
    "airlineList"
   ]
  },
  {
   "cell_type": "code",
   "execution_count": 338,
   "metadata": {},
   "outputs": [
    {
     "name": "stdout",
     "output_type": "stream",
     "text": [
      "{'1 Long layover': 0, '1 Short layover': 1, '2 Long layover': 2, 'Business class': 3, 'Change airports': 4, 'In-flight meal not included': 5, 'No check-in baggage included': 6, 'No info': 7, 'Red-eye flight': 8}\n"
     ]
    }
   ],
   "source": [
    "c['Additional_Info'] = le.fit_transform(c['Additional_Info'])\n",
    "le_name_mapping = dict(zip(le.classes_, le.transform(le.classes_)))\n",
    "print(le_name_mapping)"
   ]
  },
  {
   "cell_type": "code",
   "execution_count": 339,
   "metadata": {},
   "outputs": [
    {
     "data": {
      "text/plain": [
       "[{'name': '1 Long layover', 'code': 0},\n",
       " {'name': '1 Short layover', 'code': 1},\n",
       " {'name': '2 Long layover', 'code': 2},\n",
       " {'name': 'Business class', 'code': 3},\n",
       " {'name': 'Change airports', 'code': 4},\n",
       " {'name': 'In-flight meal not included', 'code': 5},\n",
       " {'name': 'No check-in baggage included', 'code': 6},\n",
       " {'name': 'No info', 'code': 7},\n",
       " {'name': 'Red-eye flight', 'code': 8}]"
      ]
     },
     "execution_count": 339,
     "metadata": {},
     "output_type": "execute_result"
    }
   ],
   "source": [
    "additionalInfoList = create_json_list(le_name_mapping)\n",
    "additionalInfoList"
   ]
  },
  {
   "cell_type": "code",
   "execution_count": 340,
   "metadata": {},
   "outputs": [
    {
     "data": {
      "text/plain": [
       "['1 Long layover',\n",
       " '1 Short layover',\n",
       " '2 Long layover',\n",
       " 'Business class',\n",
       " 'Change airports',\n",
       " 'In-flight meal not included',\n",
       " 'No check-in baggage included',\n",
       " 'No info',\n",
       " 'Red-eye flight']"
      ]
     },
     "execution_count": 340,
     "metadata": {},
     "output_type": "execute_result"
    }
   ],
   "source": [
    "list(le.classes_)"
   ]
  },
  {
   "cell_type": "code",
   "execution_count": 341,
   "metadata": {
    "scrolled": true
   },
   "outputs": [
    {
     "data": {
      "text/html": [
       "<div>\n",
       "<style scoped>\n",
       "    .dataframe tbody tr th:only-of-type {\n",
       "        vertical-align: middle;\n",
       "    }\n",
       "\n",
       "    .dataframe tbody tr th {\n",
       "        vertical-align: top;\n",
       "    }\n",
       "\n",
       "    .dataframe thead th {\n",
       "        text-align: right;\n",
       "    }\n",
       "</style>\n",
       "<table border=\"1\" class=\"dataframe\">\n",
       "  <thead>\n",
       "    <tr style=\"text-align: right;\">\n",
       "      <th></th>\n",
       "      <th>Airline</th>\n",
       "      <th>Source</th>\n",
       "      <th>Destination</th>\n",
       "      <th>Additional_Info</th>\n",
       "      <th>Price</th>\n",
       "      <th>Stops</th>\n",
       "      <th>Route_1</th>\n",
       "      <th>Route_2</th>\n",
       "      <th>Route_3</th>\n",
       "      <th>Route_4</th>\n",
       "      <th>Route_5</th>\n",
       "      <th>Journey_Day</th>\n",
       "      <th>Journey_Month</th>\n",
       "      <th>Journey_Year</th>\n",
       "      <th>Departure_Hour</th>\n",
       "      <th>Departure_Min</th>\n",
       "      <th>Arrival_Hour</th>\n",
       "      <th>Arrival_Min</th>\n",
       "      <th>Duration_Hour</th>\n",
       "      <th>Duration_Min</th>\n",
       "    </tr>\n",
       "  </thead>\n",
       "  <tbody>\n",
       "    <tr>\n",
       "      <th>0</th>\n",
       "      <td>3</td>\n",
       "      <td>2</td>\n",
       "      <td>7</td>\n",
       "      <td>7</td>\n",
       "      <td>3897.0</td>\n",
       "      <td>0</td>\n",
       "      <td>25</td>\n",
       "      <td>27</td>\n",
       "      <td>0</td>\n",
       "      <td>0</td>\n",
       "      <td>0</td>\n",
       "      <td>24</td>\n",
       "      <td>3</td>\n",
       "      <td>2019</td>\n",
       "      <td>22</td>\n",
       "      <td>20</td>\n",
       "      <td>1</td>\n",
       "      <td>10</td>\n",
       "      <td>2</td>\n",
       "      <td>50</td>\n",
       "    </tr>\n",
       "    <tr>\n",
       "      <th>1</th>\n",
       "      <td>1</td>\n",
       "      <td>5</td>\n",
       "      <td>2</td>\n",
       "      <td>7</td>\n",
       "      <td>7662.0</td>\n",
       "      <td>2</td>\n",
       "      <td>42</td>\n",
       "      <td>36</td>\n",
       "      <td>18</td>\n",
       "      <td>25</td>\n",
       "      <td>0</td>\n",
       "      <td>1</td>\n",
       "      <td>5</td>\n",
       "      <td>2019</td>\n",
       "      <td>5</td>\n",
       "      <td>50</td>\n",
       "      <td>13</td>\n",
       "      <td>15</td>\n",
       "      <td>7</td>\n",
       "      <td>25</td>\n",
       "    </tr>\n",
       "    <tr>\n",
       "      <th>2</th>\n",
       "      <td>4</td>\n",
       "      <td>3</td>\n",
       "      <td>6</td>\n",
       "      <td>7</td>\n",
       "      <td>13882.0</td>\n",
       "      <td>2</td>\n",
       "      <td>27</td>\n",
       "      <td>2</td>\n",
       "      <td>28</td>\n",
       "      <td>10</td>\n",
       "      <td>0</td>\n",
       "      <td>9</td>\n",
       "      <td>6</td>\n",
       "      <td>2019</td>\n",
       "      <td>9</td>\n",
       "      <td>25</td>\n",
       "      <td>4</td>\n",
       "      <td>25</td>\n",
       "      <td>19</td>\n",
       "      <td>0</td>\n",
       "    </tr>\n",
       "    <tr>\n",
       "      <th>3</th>\n",
       "      <td>3</td>\n",
       "      <td>5</td>\n",
       "      <td>2</td>\n",
       "      <td>7</td>\n",
       "      <td>6218.0</td>\n",
       "      <td>1</td>\n",
       "      <td>42</td>\n",
       "      <td>35</td>\n",
       "      <td>25</td>\n",
       "      <td>0</td>\n",
       "      <td>0</td>\n",
       "      <td>12</td>\n",
       "      <td>5</td>\n",
       "      <td>2019</td>\n",
       "      <td>18</td>\n",
       "      <td>5</td>\n",
       "      <td>23</td>\n",
       "      <td>30</td>\n",
       "      <td>5</td>\n",
       "      <td>25</td>\n",
       "    </tr>\n",
       "    <tr>\n",
       "      <th>4</th>\n",
       "      <td>3</td>\n",
       "      <td>2</td>\n",
       "      <td>7</td>\n",
       "      <td>7</td>\n",
       "      <td>13302.0</td>\n",
       "      <td>1</td>\n",
       "      <td>25</td>\n",
       "      <td>35</td>\n",
       "      <td>27</td>\n",
       "      <td>0</td>\n",
       "      <td>0</td>\n",
       "      <td>1</td>\n",
       "      <td>3</td>\n",
       "      <td>2019</td>\n",
       "      <td>16</td>\n",
       "      <td>50</td>\n",
       "      <td>21</td>\n",
       "      <td>35</td>\n",
       "      <td>4</td>\n",
       "      <td>45</td>\n",
       "    </tr>\n",
       "  </tbody>\n",
       "</table>\n",
       "</div>"
      ],
      "text/plain": [
       "   Airline  Source  Destination  Additional_Info    Price  Stops  Route_1  \\\n",
       "0        3       2            7                7   3897.0      0       25   \n",
       "1        1       5            2                7   7662.0      2       42   \n",
       "2        4       3            6                7  13882.0      2       27   \n",
       "3        3       5            2                7   6218.0      1       42   \n",
       "4        3       2            7                7  13302.0      1       25   \n",
       "\n",
       "   Route_2  Route_3  Route_4  Route_5  Journey_Day  Journey_Month  \\\n",
       "0       27        0        0        0           24              3   \n",
       "1       36       18       25        0            1              5   \n",
       "2        2       28       10        0            9              6   \n",
       "3       35       25        0        0           12              5   \n",
       "4       35       27        0        0            1              3   \n",
       "\n",
       "   Journey_Year  Departure_Hour  Departure_Min  Arrival_Hour  Arrival_Min  \\\n",
       "0          2019              22             20             1           10   \n",
       "1          2019               5             50            13           15   \n",
       "2          2019               9             25             4           25   \n",
       "3          2019              18              5            23           30   \n",
       "4          2019              16             50            21           35   \n",
       "\n",
       "   Duration_Hour  Duration_Min  \n",
       "0              2            50  \n",
       "1              7            25  \n",
       "2             19             0  \n",
       "3              5            25  \n",
       "4              4            45  "
      ]
     },
     "execution_count": 341,
     "metadata": {},
     "output_type": "execute_result"
    }
   ],
   "source": [
    "c.drop(['Route'], inplace = True, axis=1)\n",
    "c.head()"
   ]
  },
  {
   "cell_type": "code",
   "execution_count": 342,
   "metadata": {},
   "outputs": [
    {
     "name": "stdout",
     "output_type": "stream",
     "text": [
      "<class 'pandas.core.frame.DataFrame'>\n",
      "Int64Index: 13354 entries, 0 to 2670\n",
      "Data columns (total 20 columns):\n",
      " #   Column           Non-Null Count  Dtype  \n",
      "---  ------           --------------  -----  \n",
      " 0   Airline          13354 non-null  int32  \n",
      " 1   Source           13354 non-null  int64  \n",
      " 2   Destination      13354 non-null  int64  \n",
      " 3   Additional_Info  13354 non-null  int32  \n",
      " 4   Price            10683 non-null  float64\n",
      " 5   Stops            13354 non-null  int32  \n",
      " 6   Route_1          13354 non-null  int64  \n",
      " 7   Route_2          13354 non-null  int64  \n",
      " 8   Route_3          13354 non-null  int64  \n",
      " 9   Route_4          13354 non-null  int64  \n",
      " 10  Route_5          13354 non-null  int64  \n",
      " 11  Journey_Day      13354 non-null  int32  \n",
      " 12  Journey_Month    13354 non-null  int32  \n",
      " 13  Journey_Year     13354 non-null  int32  \n",
      " 14  Departure_Hour   13354 non-null  int32  \n",
      " 15  Departure_Min    13354 non-null  int32  \n",
      " 16  Arrival_Hour     13354 non-null  int32  \n",
      " 17  Arrival_Min      13354 non-null  int32  \n",
      " 18  Duration_Hour    13354 non-null  int32  \n",
      " 19  Duration_Min     13354 non-null  int32  \n",
      "dtypes: float64(1), int32(12), int64(7)\n",
      "memory usage: 1.5 MB\n"
     ]
    }
   ],
   "source": [
    "c.info()"
   ]
  },
  {
   "cell_type": "markdown",
   "metadata": {},
   "source": [
    "# 3. Data Exploration"
   ]
  },
  {
   "cell_type": "code",
   "execution_count": 343,
   "metadata": {},
   "outputs": [],
   "source": [
    "#split 'c' dataset into Trian and Test. \n",
    "Train = c[0:10683]\n",
    "Test = c[10683:]"
   ]
  },
  {
   "cell_type": "markdown",
   "metadata": {},
   "source": [
    "Let's take a look at how data is represented. Correlation among features and price. "
   ]
  },
  {
   "cell_type": "code",
   "execution_count": 344,
   "metadata": {},
   "outputs": [],
   "source": [
    "#train_categ = Train.select_dtypes(include='object')\n",
    "train_numer = Train.select_dtypes(exclude='object')"
   ]
  },
  {
   "cell_type": "code",
   "execution_count": 345,
   "metadata": {},
   "outputs": [
    {
     "data": {
      "image/png": "[encoded data removed]",
      "text/plain": [
       "<Figure size 1224x72 with 2 Axes>"
      ]
     },
     "metadata": {},
     "output_type": "display_data"
    }
   ],
   "source": [
    "numcorr = train_numer.corr()\n",
    "f,ax=plt.subplots(figsize=(17,1))\n",
    "\n",
    "sns.heatmap(numcorr.sort_values(by=['Price'], ascending=False).head(1), cmap='PuRd_r')\n",
    "plt.title(\" Numerical features correlation with the Price\", weight='bold', fontsize=18)\n",
    "plt.xticks(weight='bold')\n",
    "plt.yticks(weight='bold', color='dodgerblue', rotation=0)\n",
    "plt.show()"
   ]
  },
  {
   "cell_type": "markdown",
   "metadata": {},
   "source": [
    "As expected, Journey_Year is not relevant because data collected is within a single year 2019 for a few monnths There is a strong corrlation among many features with dark color red/pink.  "
   ]
  },
  {
   "cell_type": "code",
   "execution_count": 346,
   "metadata": {},
   "outputs": [
    {
     "data": {
      "image/png": "[encoded data removed]",
      "text/plain": [
       "<Figure size 1080x432 with 1 Axes>"
      ]
     },
     "metadata": {},
     "output_type": "display_data"
    }
   ],
   "source": [
    "plt.figure(figsize=(15,6))\n",
    "plt.scatter(x=Train['Departure_Hour'], y=Train['Price'], color='crimson', alpha=0.4)\n",
    "plt.title('Departure Hour/Ticket price', weight='bold', fontsize=16)\n",
    "plt.xlabel('Departure Hour', weight='bold', fontsize=12)\n",
    "plt.ylabel('Ticket price', weight='bold', fontsize=12)\n",
    "plt.xticks(weight='bold')\n",
    "plt.yticks(weight='bold')\n",
    "plt.show()"
   ]
  },
  {
   "cell_type": "code",
   "execution_count": 347,
   "metadata": {},
   "outputs": [],
   "source": [
    "#airlineList\n",
    "airLines = []\n",
    "airline_count =Train['Airline'].value_counts().sort_values(ascending=False).reset_index()\n",
    "for i in airline_count['index']:\n",
    "    airLines.append(airlineList[i]['name'])"
   ]
  },
  {
   "cell_type": "code",
   "execution_count": 348,
   "metadata": {},
   "outputs": [
    {
     "data": {
      "image/png": "[encoded data removed]",
      "text/plain": [
       "<Figure size 1440x576 with 1 Axes>"
      ]
     },
     "metadata": {},
     "output_type": "display_data"
    }
   ],
   "source": [
    "plt.figure(figsize=(20,8))\n",
    "plt.bar(airLines, airline_count['Airline'])\n",
    "plt.title('Airlines Usage', weight='bold', fontsize=16)\n",
    "plt.xlabel('Airlines', weight='bold', fontsize=12)\n",
    "plt.ylabel('Number of Flights', weight='bold', fontsize=12)\n",
    "plt.xticks(weight='bold', rotation='vertical')\n",
    "plt.yticks(weight='bold')\n",
    "plt.show()"
   ]
  },
  {
   "cell_type": "markdown",
   "metadata": {},
   "source": [
    "Jet Airways is clearly domainating carrier in airline industry with almost 4000 tickets sold between March and June. Now, let's turn into anomly detection of Price. "
   ]
  },
  {
   "cell_type": "code",
   "execution_count": 349,
   "metadata": {},
   "outputs": [
    {
     "data": {
      "image/png": "[encoded data removed]",
      "text/plain": [
       "<Figure size 1080x1080 with 4 Axes>"
      ]
     },
     "metadata": {},
     "output_type": "display_data"
    }
   ],
   "source": [
    "fig = plt.figure(figsize=(15,15))\n",
    "ax1 = plt.subplot2grid((2,2),(0,0))\n",
    "plt.scatter(x=Train['Stops'], y=Train['Price'], color=('yellowgreen'), alpha=0.5)\n",
    "plt.axhline(y=60000, color='r', linestyle='-')\n",
    "plt.title('Stops- Price scatter plot', fontsize=15, weight='bold' )\n",
    "\n",
    "ax1 = plt.subplot2grid((2,2),(0,1))\n",
    "plt.scatter(x=Train['Airline'], y=Train['Price'], color=('red'),alpha=0.5)\n",
    "plt.axhline(y=60000, color='r', linestyle='-')\n",
    "plt.title('Airline - Price scatter plot', fontsize=15, weight='bold' )\n",
    "\n",
    "ax1 = plt.subplot2grid((2,2),(1,0))\n",
    "plt.scatter(x=Train['Source'], y=Train['Price'], color=('deepskyblue'),alpha=0.5)\n",
    "plt.axhline(y=60000, color='r', linestyle='-')\n",
    "plt.title('Source - Price scatter plot', fontsize=15, weight='bold' )\n",
    "\n",
    "ax1 = plt.subplot2grid((2,2),(1,1))\n",
    "plt.scatter(x=Train['Destination'], y=Train['Price'], color=('gold'),alpha=0.9)\n",
    "plt.axhline(y=60000, color='r', linestyle='-')\n",
    "plt.title('Destination - Price scatter plot', fontsize=15, weight='bold' )\n",
    "\n",
    "plt.show()"
   ]
  },
  {
   "cell_type": "code",
   "execution_count": 350,
   "metadata": {},
   "outputs": [
    {
     "data": {
      "text/plain": [
       "Int64Index([2924, 5372], dtype='int64')"
      ]
     },
     "execution_count": 350,
     "metadata": {},
     "output_type": "execute_result"
    }
   ],
   "source": [
    "#remove records with Price above 60,000. \n",
    "Train[Train['Price']> 60000].index"
   ]
  },
  {
   "cell_type": "code",
   "execution_count": 351,
   "metadata": {},
   "outputs": [],
   "source": [
    "Train.drop(Train[Train['Price']> 60000].index, inplace=True)"
   ]
  },
  {
   "cell_type": "code",
   "execution_count": 352,
   "metadata": {},
   "outputs": [
    {
     "data": {
      "text/html": [
       "<div>\n",
       "<style scoped>\n",
       "    .dataframe tbody tr th:only-of-type {\n",
       "        vertical-align: middle;\n",
       "    }\n",
       "\n",
       "    .dataframe tbody tr th {\n",
       "        vertical-align: top;\n",
       "    }\n",
       "\n",
       "    .dataframe thead th {\n",
       "        text-align: right;\n",
       "    }\n",
       "</style>\n",
       "<table border=\"1\" class=\"dataframe\">\n",
       "  <thead>\n",
       "    <tr style=\"text-align: right;\">\n",
       "      <th></th>\n",
       "      <th>Airline</th>\n",
       "      <th>Source</th>\n",
       "      <th>Destination</th>\n",
       "      <th>Additional_Info</th>\n",
       "      <th>Price</th>\n",
       "      <th>Stops</th>\n",
       "      <th>Route_1</th>\n",
       "      <th>Route_2</th>\n",
       "      <th>Route_3</th>\n",
       "      <th>Route_4</th>\n",
       "      <th>Route_5</th>\n",
       "      <th>Journey_Day</th>\n",
       "      <th>Journey_Month</th>\n",
       "      <th>Journey_Year</th>\n",
       "      <th>Departure_Hour</th>\n",
       "      <th>Departure_Min</th>\n",
       "      <th>Arrival_Hour</th>\n",
       "      <th>Arrival_Min</th>\n",
       "      <th>Duration_Hour</th>\n",
       "      <th>Duration_Min</th>\n",
       "    </tr>\n",
       "  </thead>\n",
       "  <tbody>\n",
       "    <tr>\n",
       "      <th>0</th>\n",
       "      <td>3</td>\n",
       "      <td>2</td>\n",
       "      <td>7</td>\n",
       "      <td>7</td>\n",
       "      <td>3897.0</td>\n",
       "      <td>0</td>\n",
       "      <td>25</td>\n",
       "      <td>27</td>\n",
       "      <td>0</td>\n",
       "      <td>0</td>\n",
       "      <td>0</td>\n",
       "      <td>24</td>\n",
       "      <td>3</td>\n",
       "      <td>2019</td>\n",
       "      <td>22</td>\n",
       "      <td>20</td>\n",
       "      <td>1</td>\n",
       "      <td>10</td>\n",
       "      <td>2</td>\n",
       "      <td>50</td>\n",
       "    </tr>\n",
       "    <tr>\n",
       "      <th>1</th>\n",
       "      <td>1</td>\n",
       "      <td>5</td>\n",
       "      <td>2</td>\n",
       "      <td>7</td>\n",
       "      <td>7662.0</td>\n",
       "      <td>2</td>\n",
       "      <td>42</td>\n",
       "      <td>36</td>\n",
       "      <td>18</td>\n",
       "      <td>25</td>\n",
       "      <td>0</td>\n",
       "      <td>1</td>\n",
       "      <td>5</td>\n",
       "      <td>2019</td>\n",
       "      <td>5</td>\n",
       "      <td>50</td>\n",
       "      <td>13</td>\n",
       "      <td>15</td>\n",
       "      <td>7</td>\n",
       "      <td>25</td>\n",
       "    </tr>\n",
       "    <tr>\n",
       "      <th>2</th>\n",
       "      <td>4</td>\n",
       "      <td>3</td>\n",
       "      <td>6</td>\n",
       "      <td>7</td>\n",
       "      <td>13882.0</td>\n",
       "      <td>2</td>\n",
       "      <td>27</td>\n",
       "      <td>2</td>\n",
       "      <td>28</td>\n",
       "      <td>10</td>\n",
       "      <td>0</td>\n",
       "      <td>9</td>\n",
       "      <td>6</td>\n",
       "      <td>2019</td>\n",
       "      <td>9</td>\n",
       "      <td>25</td>\n",
       "      <td>4</td>\n",
       "      <td>25</td>\n",
       "      <td>19</td>\n",
       "      <td>0</td>\n",
       "    </tr>\n",
       "    <tr>\n",
       "      <th>3</th>\n",
       "      <td>3</td>\n",
       "      <td>5</td>\n",
       "      <td>2</td>\n",
       "      <td>7</td>\n",
       "      <td>6218.0</td>\n",
       "      <td>1</td>\n",
       "      <td>42</td>\n",
       "      <td>35</td>\n",
       "      <td>25</td>\n",
       "      <td>0</td>\n",
       "      <td>0</td>\n",
       "      <td>12</td>\n",
       "      <td>5</td>\n",
       "      <td>2019</td>\n",
       "      <td>18</td>\n",
       "      <td>5</td>\n",
       "      <td>23</td>\n",
       "      <td>30</td>\n",
       "      <td>5</td>\n",
       "      <td>25</td>\n",
       "    </tr>\n",
       "    <tr>\n",
       "      <th>4</th>\n",
       "      <td>3</td>\n",
       "      <td>2</td>\n",
       "      <td>7</td>\n",
       "      <td>7</td>\n",
       "      <td>13302.0</td>\n",
       "      <td>1</td>\n",
       "      <td>25</td>\n",
       "      <td>35</td>\n",
       "      <td>27</td>\n",
       "      <td>0</td>\n",
       "      <td>0</td>\n",
       "      <td>1</td>\n",
       "      <td>3</td>\n",
       "      <td>2019</td>\n",
       "      <td>16</td>\n",
       "      <td>50</td>\n",
       "      <td>21</td>\n",
       "      <td>35</td>\n",
       "      <td>4</td>\n",
       "      <td>45</td>\n",
       "    </tr>\n",
       "  </tbody>\n",
       "</table>\n",
       "</div>"
      ],
      "text/plain": [
       "   Airline  Source  Destination  Additional_Info    Price  Stops  Route_1  \\\n",
       "0        3       2            7                7   3897.0      0       25   \n",
       "1        1       5            2                7   7662.0      2       42   \n",
       "2        4       3            6                7  13882.0      2       27   \n",
       "3        3       5            2                7   6218.0      1       42   \n",
       "4        3       2            7                7  13302.0      1       25   \n",
       "\n",
       "   Route_2  Route_3  Route_4  Route_5  Journey_Day  Journey_Month  \\\n",
       "0       27        0        0        0           24              3   \n",
       "1       36       18       25        0            1              5   \n",
       "2        2       28       10        0            9              6   \n",
       "3       35       25        0        0           12              5   \n",
       "4       35       27        0        0            1              3   \n",
       "\n",
       "   Journey_Year  Departure_Hour  Departure_Min  Arrival_Hour  Arrival_Min  \\\n",
       "0          2019              22             20             1           10   \n",
       "1          2019               5             50            13           15   \n",
       "2          2019               9             25             4           25   \n",
       "3          2019              18              5            23           30   \n",
       "4          2019              16             50            21           35   \n",
       "\n",
       "   Duration_Hour  Duration_Min  \n",
       "0              2            50  \n",
       "1              7            25  \n",
       "2             19             0  \n",
       "3              5            25  \n",
       "4              4            45  "
      ]
     },
     "execution_count": 352,
     "metadata": {},
     "output_type": "execute_result"
    }
   ],
   "source": [
    "Train.head()"
   ]
  },
  {
   "cell_type": "code",
   "execution_count": 353,
   "metadata": {},
   "outputs": [
    {
     "data": {
      "image/png": "[encoded data removed]",
      "text/plain": [
       "<Figure size 1080x1080 with 4 Axes>"
      ]
     },
     "metadata": {},
     "output_type": "display_data"
    }
   ],
   "source": [
    "#verfiy if there is still anomly after drop\n",
    "fig = plt.figure(figsize=(15,15))\n",
    "ax1 = plt.subplot2grid((2,2),(0,0))\n",
    "plt.scatter(x=Train['Stops'], y=Train['Price'], color=('yellowgreen'), alpha=0.5)\n",
    "plt.axhline(y=60000, color='r', linestyle='-')\n",
    "plt.title('Stops- Price scatter plot', fontsize=15, weight='bold' )\n",
    "\n",
    "ax1 = plt.subplot2grid((2,2),(0,1))\n",
    "plt.scatter(x=Train['Airline'], y=Train['Price'], color=('red'),alpha=0.5)\n",
    "plt.axhline(y=60000, color='r', linestyle='-')\n",
    "plt.title('Airline - Price scatter plot', fontsize=15, weight='bold' )\n",
    "\n",
    "ax1 = plt.subplot2grid((2,2),(1,0))\n",
    "plt.scatter(x=Train['Source'], y=Train['Price'], color=('deepskyblue'),alpha=0.5)\n",
    "plt.axhline(y=60000, color='r', linestyle='-')\n",
    "plt.title('Source - Price scatter plot', fontsize=15, weight='bold' )\n",
    "\n",
    "ax1 = plt.subplot2grid((2,2),(1,1))\n",
    "plt.scatter(x=Train['Destination'], y=Train['Price'], color=('gold'),alpha=0.9)\n",
    "plt.axhline(y=60000, color='r', linestyle='-')\n",
    "plt.title('Destination - Price scatter plot', fontsize=15, weight='bold' )\n",
    "\n",
    "plt.show()"
   ]
  },
  {
   "cell_type": "markdown",
   "metadata": {},
   "source": [
    "Perform log tranformation to have uniformed Price range. Observe that other features do not have skewness."
   ]
  },
  {
   "cell_type": "code",
   "execution_count": 354,
   "metadata": {},
   "outputs": [
    {
     "name": "stdout",
     "output_type": "stream",
     "text": [
      "Skewness after log transform: 1.41351376890318\n",
      "Kurtosis after log transform: 7.2341285941712155\n"
     ]
    }
   ],
   "source": [
    "print(f\"Skewness after log transform: {Train['Price'].skew()}\")\n",
    "print(f\"Kurtosis after log transform: {Train['Price'].kurt()}\")"
   ]
  },
  {
   "cell_type": "code",
   "execution_count": 355,
   "metadata": {},
   "outputs": [],
   "source": [
    "Train[\"Price\"] = np.log1p(Train[\"Price\"])"
   ]
  },
  {
   "cell_type": "code",
   "execution_count": 356,
   "metadata": {},
   "outputs": [
    {
     "data": {
      "image/png": "[encoded data removed]",
      "text/plain": [
       "<Figure size 864x720 with 2 Axes>"
      ]
     },
     "metadata": {},
     "output_type": "display_data"
    }
   ],
   "source": [
    "plt.style.use('seaborn')\n",
    "sns.set_style('whitegrid')\n",
    "fig = plt.figure(figsize=(12,10))\n",
    "#1 rows 2 cols\n",
    "#first row, first col\n",
    "ax1 = plt.subplot2grid((1,2),(0,0))\n",
    "sns.distplot(Train['Price'], color='mediumpurple')\n",
    "plt.title('Before: Distribution of GrLivArea',weight='bold', fontsize=18)\n",
    "#first row sec col\n",
    "ax1 = plt.subplot2grid((1,2),(0,1))\n",
    "sns.distplot(Train['Price'], color='tan')\n",
    "plt.title('Before: Distribution of 1stFlrSF',weight='bold', fontsize=18)\n",
    "\n",
    "plt.show()"
   ]
  },
  {
   "cell_type": "code",
   "execution_count": 357,
   "metadata": {},
   "outputs": [
    {
     "name": "stdout",
     "output_type": "stream",
     "text": [
      "Skewness after log transform: -0.2678499454552922\n",
      "Kurtosis after log transform: -0.4476389119338968\n"
     ]
    }
   ],
   "source": [
    "print(f\"Skewness after log transform: {Train['Price'].skew()}\")\n",
    "print(f\"Kurtosis after log transform: {Train['Price'].kurt()}\")"
   ]
  },
  {
   "cell_type": "markdown",
   "metadata": {},
   "source": [
    "# 4. Model Building and Tuning"
   ]
  },
  {
   "cell_type": "code",
   "execution_count": 358,
   "metadata": {},
   "outputs": [],
   "source": [
    "from sklearn.linear_model import Lasso\n",
    "from sklearn.feature_selection import SelectFromModel"
   ]
  },
  {
   "cell_type": "code",
   "execution_count": 286,
   "metadata": {},
   "outputs": [],
   "source": [
    "x = Train.drop(['Price'], axis=1)\n",
    "y = np.array(Train['Price'])"
   ]
  },
  {
   "cell_type": "code",
   "execution_count": 287,
   "metadata": {},
   "outputs": [],
   "source": [
    "from sklearn.model_selection import train_test_split\n",
    "x_train, x_test, y_train, y_test = train_test_split(x, y,test_size = .3, random_state=0)"
   ]
  },
  {
   "cell_type": "code",
   "execution_count": 288,
   "metadata": {},
   "outputs": [],
   "source": [
    "Test.drop(['Price'], axis=1, inplace=True)"
   ]
  },
  {
   "cell_type": "code",
   "execution_count": 289,
   "metadata": {},
   "outputs": [],
   "source": [
    "from sklearn.preprocessing import RobustScaler\n",
    "scaler= RobustScaler()\n",
    "# transform \"x_train\"\n",
    "x_train = scaler.fit_transform(x_train)\n",
    "# transform \"x_test\"\n",
    "x_test = scaler.transform(x_test)\n",
    "#Transform the test set\n",
    "X_test= scaler.transform(Test)"
   ]
  },
  {
   "cell_type": "markdown",
   "metadata": {},
   "source": [
    "### Linear Regression"
   ]
  },
  {
   "cell_type": "code",
   "execution_count": 78,
   "metadata": {},
   "outputs": [
    {
     "name": "stdout",
     "output_type": "stream",
     "text": [
      "-0.1136153289409401\n",
      "RMSE = 0.33706873029241396\n"
     ]
    }
   ],
   "source": [
    "from sklearn.linear_model import LinearRegression\n",
    "\n",
    "lreg=LinearRegression()\n",
    "MSEs = ms.cross_val_score(lreg, x, y, scoring='neg_mean_squared_error', cv=5)\n",
    "meanMSE=np.mean(MSEs)\n",
    "print(meanMSE)\n",
    "print('RMSE = '+str(math.sqrt(-meanMSE)))"
   ]
  },
  {
   "cell_type": "code",
   "execution_count": 79,
   "metadata": {},
   "outputs": [],
   "source": [
    "def score(y_test, y_pred):\n",
    "    return str(math.sqrt(sklm.mean_squared_error(y_test, y_pred)))"
   ]
  },
  {
   "cell_type": "markdown",
   "metadata": {},
   "source": [
    "### Ridge"
   ]
  },
  {
   "cell_type": "code",
   "execution_count": 80,
   "metadata": {},
   "outputs": [
    {
     "name": "stdout",
     "output_type": "stream",
     "text": [
      "The best value of Alpha is: {'alpha': 6}\n",
      "The best score achieved with Alpha=11 is: 0.33345416951111767\n"
     ]
    }
   ],
   "source": [
    "import sklearn.model_selection as GridSearchCV\n",
    "from sklearn.linear_model import Ridge\n",
    "\n",
    "ridge=Ridge()\n",
    "parameters= {'alpha':[x for x in range(1,101)]}\n",
    "\n",
    "ridge_reg = ms.GridSearchCV(ridge, param_grid=parameters, scoring='neg_mean_squared_error', cv=15)\n",
    "ridge_reg.fit(x_train,y_train)\n",
    "print(f\"The best value of Alpha is: {ridge_reg.best_params_}\")\n",
    "print(f\"The best score achieved with Alpha=11 is: {math.sqrt(-ridge_reg.best_score_)}\")\n",
    "ridge_pred=math.sqrt(-ridge_reg.best_score_)"
   ]
  },
  {
   "cell_type": "code",
   "execution_count": 82,
   "metadata": {},
   "outputs": [
    {
     "name": "stdout",
     "output_type": "stream",
     "text": [
      "Root Mean Square Error train =  0.33251331541397766\n",
      "Root Mean Square Error test =  0.34544054591759776\n"
     ]
    }
   ],
   "source": [
    "ridge_mod=Ridge(alpha=6)\n",
    "ridge_mod.fit(x_train,y_train)\n",
    "y_pred_train=ridge_mod.predict(x_train)\n",
    "y_pred_test=ridge_mod.predict(x_test)\n",
    "\n",
    "print(f'Root Mean Square Error train =  {str(math.sqrt(sklm.mean_squared_error(y_train, y_pred_train)))}')\n",
    "print(f'Root Mean Square Error test =  {score(y_test, y_pred_test)}')   "
   ]
  },
  {
   "cell_type": "code",
   "execution_count": 84,
   "metadata": {},
   "outputs": [
    {
     "name": "stdout",
     "output_type": "stream",
     "text": [
      "RMSE scores of the 5 folds:\n",
      "Fold 0: 0.3436\n",
      "Fold 1: 0.3272\n",
      "Fold 2: 0.3366\n",
      "Fold 3: 0.3372\n",
      "Fold 4: 0.3405\n",
      "Mean RMSE with Ridge: 0.3371\n"
     ]
    }
   ],
   "source": [
    "#Ridge regression with cross validation\n",
    "\n",
    "Ridge_CV=Ridge(alpha=6)\n",
    "MSEs=ms.cross_val_score(Ridge_CV, x, y, scoring='neg_mean_squared_error', cv=5)\n",
    "\n",
    "#RMSE score of the 5 folds\n",
    "print(\"RMSE scores of the 5 folds:\")\n",
    "for i,j in enumerate(MSEs):\n",
    "    j= math.sqrt(np.mean(-j))\n",
    "    print(f'Fold {i}: {round(j,4)}')\n",
    "\n",
    "#Final RMSE score with Rideg\n",
    "print(f'Mean RMSE with Ridge: {round(math.sqrt(np.mean(-MSEs)),4)}')"
   ]
  },
  {
   "cell_type": "markdown",
   "metadata": {},
   "source": [
    "### Lasso Regression"
   ]
  },
  {
   "cell_type": "code",
   "execution_count": 85,
   "metadata": {},
   "outputs": [
    {
     "name": "stdout",
     "output_type": "stream",
     "text": [
      "The best value of Alpha is: {'alpha': 0.0001}\n"
     ]
    }
   ],
   "source": [
    "from sklearn.linear_model import Lasso\n",
    "\n",
    "parameters= {'alpha':[0.0001,0.0009,0.001,0.002,0.003,0.01,0.1,1,10,100]}\n",
    "\n",
    "lasso=Lasso()\n",
    "lasso_reg = ms.GridSearchCV(lasso, param_grid=parameters, scoring='neg_mean_squared_error', cv=15)\n",
    "lasso_reg.fit(x_train,y_train)\n",
    "\n",
    "print(f'The best value of Alpha is: {lasso_reg.best_params_}')"
   ]
  },
  {
   "cell_type": "code",
   "execution_count": 87,
   "metadata": {},
   "outputs": [
    {
     "name": "stdout",
     "output_type": "stream",
     "text": [
      "Root Mean Square Error train  0.3325111112510232\n",
      "Root Mean Square Error test  0.34541796938616137\n"
     ]
    }
   ],
   "source": [
    "lasso_mod=Lasso(alpha=0.0001)\n",
    "lasso_mod.fit(x_train,y_train)\n",
    "y_lasso_train=lasso_mod.predict(x_train)\n",
    "y_lasso_test=lasso_mod.predict(x_test)\n",
    "\n",
    "print(f'Root Mean Square Error train  {str(math.sqrt(sklm.mean_squared_error(y_train, y_lasso_train)))}')\n",
    "print(f'Root Mean Square Error test  {score(y_test, y_lasso_test)}')"
   ]
  },
  {
   "cell_type": "code",
   "execution_count": 88,
   "metadata": {},
   "outputs": [
    {
     "data": {
      "image/png": "[encoded data removed]",
      "text/plain": [
       "<Figure size 576x396 with 1 Axes>"
      ]
     },
     "metadata": {},
     "output_type": "display_data"
    }
   ],
   "source": [
    "coefs = pd.Series(lasso_mod.coef_, index = x.columns)\n",
    "\n",
    "imp_coefs = pd.concat([coefs.sort_values().head(10),\n",
    "                     coefs.sort_values().tail(10)])\n",
    "imp_coefs.plot(kind = \"barh\", color='green')\n",
    "plt.xlabel(\"Lasso coefficient\", weight='bold')\n",
    "plt.title(\"Feature importance in the Lasso Model\", weight='bold')\n",
    "plt.show()"
   ]
  },
  {
   "cell_type": "code",
   "execution_count": 90,
   "metadata": {},
   "outputs": [
    {
     "name": "stdout",
     "output_type": "stream",
     "text": [
      "Lasso kept 18 important features and dropped the other  1 features\n"
     ]
    }
   ],
   "source": [
    "print(f\"Lasso kept {sum(coefs != 0)} important features and dropped the other  {sum(coefs == 0)} features\")"
   ]
  },
  {
   "cell_type": "code",
   "execution_count": 92,
   "metadata": {},
   "outputs": [
    {
     "name": "stdout",
     "output_type": "stream",
     "text": [
      "RMSE scores of the 5 folds:\n",
      "Fold 0: 0.3436\n",
      "Fold 1: 0.3272\n",
      "Fold 2: 0.3366\n",
      "Fold 3: 0.3372\n",
      "Fold 4: 0.3405\n",
      "Mean RMSE with Lasso: 0.3371\n"
     ]
    }
   ],
   "source": [
    "#Lasso regression\n",
    "Lasso_CV = Lasso(alpha=0.0001)\n",
    "Lasso_MSEs = ms.cross_val_score(Lasso_CV, x, y, scoring='neg_mean_squared_error', cv=5)\n",
    "\n",
    "#RMSE score of the 5 folds\n",
    "print(\"RMSE scores of the 5 folds:\")\n",
    "for i,j in enumerate(Lasso_MSEs):\n",
    "    j= math.sqrt(np.mean(-j))\n",
    "    print(f'Fold {i}: {round(j,4)}')\n",
    "\n",
    "#Final RMSE score with Lasso\n",
    "print(f'Mean RMSE with Lasso: {round(math.sqrt(np.mean(-Lasso_MSEs)),4)}')"
   ]
  },
  {
   "cell_type": "markdown",
   "metadata": {},
   "source": [
    "### Elastic Net"
   ]
  },
  {
   "cell_type": "code",
   "execution_count": 93,
   "metadata": {},
   "outputs": [
    {
     "name": "stdout",
     "output_type": "stream",
     "text": [
      "Root Mean Square Error test = 0.34544296924911927\n",
      "0.001\n"
     ]
    }
   ],
   "source": [
    "from sklearn.linear_model import ElasticNetCV\n",
    "\n",
    "alphas = [10,1,0.1,0.01,0.001,0.002,0.003,0.004,0.005,0.00054255]\n",
    "l1ratio = [0.1, 0.3,0.5, 0.9, 0.95, 0.99, 1]\n",
    "\n",
    "elastic_cv = ElasticNetCV(cv=5, max_iter=1e7, alphas=alphas,  l1_ratio=l1ratio)\n",
    "\n",
    "elasticmod = elastic_cv.fit(x_train, y_train.ravel())\n",
    "ela_pred=elasticmod.predict(x_test)\n",
    "print('Root Mean Square Error test = ' + str(math.sqrt(sklm.mean_squared_error(y_test, ela_pred))))\n",
    "print(elastic_cv.alpha_)"
   ]
  },
  {
   "cell_type": "code",
   "execution_count": 95,
   "metadata": {},
   "outputs": [
    {
     "name": "stdout",
     "output_type": "stream",
     "text": [
      "Root Mean Square Error test = 0.34544296924911927\n",
      "0.001\n",
      "0.1\n"
     ]
    }
   ],
   "source": [
    "from sklearn.linear_model import ElasticNetCV\n",
    "\n",
    "alphas = [0.001]\n",
    "l1ratio = [0.1, 0.3,0.5, 0.9, 0.95, 0.99, 1]\n",
    "\n",
    "elastic_cv = ElasticNetCV(cv=5, max_iter=1e7, alphas=alphas,  l1_ratio=l1ratio)\n",
    "\n",
    "elasticmod = elastic_cv.fit(x_train, y_train.ravel())\n",
    "ela_pred=elasticmod.predict(x_test)\n",
    "print(f'Root Mean Square Error test = {score(y_test, ela_pred)}')\n",
    "print(elastic_cv.alpha_)\n",
    "print(elastic_cv.l1_ratio_)"
   ]
  },
  {
   "cell_type": "markdown",
   "metadata": {},
   "source": [
    "### XGBoost"
   ]
  },
  {
   "cell_type": "code",
   "execution_count": 109,
   "metadata": {},
   "outputs": [
    {
     "name": "stdout",
     "output_type": "stream",
     "text": [
      "XGBRegressor(base_score=0.5, booster='gbtree', colsample_bylevel=1,\n",
      "             colsample_bynode=1, colsample_bytree=0.7, gamma=0, gpu_id=-1,\n",
      "             importance_type='gain', interaction_constraints='',\n",
      "             learning_rate=0.01, max_delta_step=0, max_depth=3,\n",
      "             min_child_weight=3, missing=nan, monotone_constraints='()',\n",
      "             n_estimators=4000, n_jobs=0, num_parallel_tree=1, random_state=0,\n",
      "             reg_alpha=0.001, reg_lambda=0.0001, scale_pos_weight=1,\n",
      "             subsample=1, tree_method='exact', validate_parameters=1,\n",
      "             verbosity=None)\n",
      "-0.022028702937619472\n"
     ]
    }
   ],
   "source": [
    "from xgboost.sklearn import XGBRegressor\n",
    "import xgboost as xgb\n",
    "\n",
    "xg_reg = xgb.XGBRegressor()\n",
    "\n",
    "xgparam_grid= {'learning_rate' : [0.01],\n",
    "               'n_estimators':[2000, 3460, 4000],\n",
    "               'max_depth':[3], 'min_child_weight':[3,5],\n",
    "               'colsample_bytree':[0.5,0.7],\n",
    "               'reg_alpha':[0.0001,0.001,0.01,0.1,10,100],\n",
    "               'reg_lambda':[1,0.01,0.8,0.001,0.0001]}\n",
    "\n",
    "xg_grid = ms.GridSearchCV(xg_reg, param_grid=xgparam_grid, cv=5, scoring='neg_mean_squared_error', n_jobs=-1)\n",
    "\n",
    "xg_grid.fit(x_train,y_train)\n",
    "print(xg_grid.best_estimator_)\n",
    "print(xg_grid.best_score_)"
   ]
  },
  {
   "cell_type": "code",
   "execution_count": 110,
   "metadata": {},
   "outputs": [
    {
     "name": "stdout",
     "output_type": "stream",
     "text": [
      "Root Mean Square Error test = 0.16190825879505322\n"
     ]
    }
   ],
   "source": [
    "xgb= xgb.XGBRegressor(base_score=0.5, booster='gbtree', colsample_bylevel=1,\n",
    "             colsample_bynode=1, colsample_bytree=0.7, gamma=0,\n",
    "             importance_type='gain', learning_rate=0.01, max_delta_step=0,\n",
    "             max_depth=3, min_child_weight=3, missing=None, n_estimators=4000,\n",
    "             n_jobs=0, nthread=None, objective='reg:squarederror', random_state=0,\n",
    "             reg_alpha=0.001, reg_lambda=0.0001, scale_pos_weight=1, seed=None,\n",
    "             silent=None, subsample=1, verbosity=None)\n",
    "\n",
    "xgmod=xgb.fit(x_train,y_train)\n",
    "xg_pred=xgmod.predict(x_test)\n",
    "print(f'Root Mean Square Error test = {score(y_test, xg_pred)}')"
   ]
  },
  {
   "cell_type": "markdown",
   "metadata": {},
   "source": [
    "### Voting Regressor"
   ]
  },
  {
   "cell_type": "code",
   "execution_count": 111,
   "metadata": {},
   "outputs": [
    {
     "name": "stdout",
     "output_type": "stream",
     "text": [
      "Root Mean Square Error test = 0.2851734486214076\n"
     ]
    }
   ],
   "source": [
    "from sklearn.ensemble import VotingRegressor\n",
    "\n",
    "vote_mod = VotingRegressor([('Ridge', ridge_mod), ('Lasso', lasso_mod), ('Elastic', elastic_cv), \n",
    "                            ('XGBRegressor', xgb)])\n",
    "vote= vote_mod.fit(x_train, y_train.ravel())\n",
    "vote_pred=vote.predict(x_test)\n",
    "\n",
    "print(f'Root Mean Square Error test = {score(y_test, vote_pred)}')"
   ]
  },
  {
   "cell_type": "markdown",
   "metadata": {},
   "source": [
    "### Stacking Regressor"
   ]
  },
  {
   "cell_type": "code",
   "execution_count": 115,
   "metadata": {},
   "outputs": [
    {
     "name": "stdout",
     "output_type": "stream",
     "text": [
      "Root Mean Square Error test = 0.15646108950451157\n"
     ]
    }
   ],
   "source": [
    "from mlxtend.regressor import StackingRegressor\n",
    "\n",
    "\n",
    "stregr = StackingRegressor(regressors=[elastic_cv,ridge_mod, lasso_mod, vote_mod], \n",
    "                           meta_regressor=xgb, use_features_in_secondary=True)\n",
    "\n",
    "stack_mod=stregr.fit(x_train, y_train.ravel())\n",
    "stacking_pred=stack_mod.predict(x_test)\n",
    "\n",
    "print(f'Root Mean Square Error test = {score(y_test, stacking_pred)}')"
   ]
  },
  {
   "cell_type": "markdown",
   "metadata": {},
   "source": [
    "### Averaging Regressor"
   ]
  },
  {
   "cell_type": "code",
   "execution_count": 117,
   "metadata": {},
   "outputs": [
    {
     "name": "stdout",
     "output_type": "stream",
     "text": [
      "Root Mean Square Error test=  0.21133133911128615\n"
     ]
    }
   ],
   "source": [
    "final_test=(0.3*vote_pred+0.5*stacking_pred+ 0.2*y_lasso_test)\n",
    "print(f'Root Mean Square Error test=  {score(y_test, final_test)}')"
   ]
  },
  {
   "cell_type": "markdown",
   "metadata": {},
   "source": [
    "### Random Forest"
   ]
  },
  {
   "cell_type": "code",
   "execution_count": 130,
   "metadata": {},
   "outputs": [],
   "source": [
    "from sklearn.ensemble import RandomForestRegressor"
   ]
  },
  {
   "cell_type": "code",
   "execution_count": 139,
   "metadata": {},
   "outputs": [],
   "source": [
    "# Number of trees in random forest\n",
    "n_estimators = [int(x) for x in np.linspace(start = 1000, stop = 5000, num = 10)]\n",
    "# Number of features to consider at every split\n",
    "max_features = ['auto', 'sqrt']\n",
    "# Maximum number of levels in tree\n",
    "max_depth = [int(x) for x in np.linspace(5, 30, num = 6)]\n",
    "# max_depth.append(None)\n",
    "# Minimum number of samples required to split a node\n",
    "min_samples_split = [2, 5, 10, 15, 100]\n",
    "# Minimum number of samples required at each leaf node\n",
    "min_samples_leaf = [1, 2, 5, 10]\n",
    "\n",
    "\n",
    "# Create the random grid\n",
    "'''\n",
    "random_grid = {'n_estimators': n_estimators,\n",
    "               'max_features': max_features,\n",
    "               'max_depth': max_depth,\n",
    "               'min_samples_split': min_samples_split,\n",
    "               'min_samples_leaf': min_samples_leaf}\n",
    "\n",
    "print(random_grid)\n",
    "'''\n",
    "random_grid = {'n_estimators': n_estimators,\n",
    "               'max_features': max_features\n",
    "               }"
   ]
  },
  {
   "cell_type": "code",
   "execution_count": 136,
   "metadata": {},
   "outputs": [],
   "source": [
    "rf = RandomForestRegressor(n_estimators=4000)"
   ]
  },
  {
   "cell_type": "code",
   "execution_count": 137,
   "metadata": {},
   "outputs": [
    {
     "name": "stdout",
     "output_type": "stream",
     "text": [
      "Root Mean Square Error test = 0.1404431404665752\n"
     ]
    }
   ],
   "source": [
    "randomforest_mod = rf.fit(x_train, y_train.ravel())\n",
    "randomforest_pred = rf.predict(x_test)                    \n",
    "print(f'Root Mean Square Error test = {score(y_test, randomforest_pred)}')"
   ]
  },
  {
   "cell_type": "code",
   "execution_count": 140,
   "metadata": {},
   "outputs": [
    {
     "name": "stdout",
     "output_type": "stream",
     "text": [
      "Fitting 3 folds for each of 20 candidates, totalling 60 fits\n",
      "[CV] n_estimators=1000, max_features=auto ............................\n"
     ]
    },
    {
     "name": "stderr",
     "output_type": "stream",
     "text": [
      "[Parallel(n_jobs=1)]: Using backend SequentialBackend with 1 concurrent workers.\n"
     ]
    },
    {
     "name": "stdout",
     "output_type": "stream",
     "text": [
      "[CV] ............. n_estimators=1000, max_features=auto, total=  12.7s\n",
      "[CV] n_estimators=1000, max_features=auto ............................\n"
     ]
    },
    {
     "name": "stderr",
     "output_type": "stream",
     "text": [
      "[Parallel(n_jobs=1)]: Done   1 out of   1 | elapsed:   12.6s remaining:    0.0s\n"
     ]
    },
    {
     "name": "stdout",
     "output_type": "stream",
     "text": [
      "[CV] ............. n_estimators=1000, max_features=auto, total=  12.9s\n",
      "[CV] n_estimators=1000, max_features=auto ............................\n",
      "[CV] ............. n_estimators=1000, max_features=auto, total=  13.0s\n",
      "[CV] n_estimators=1444, max_features=auto ............................\n",
      "[CV] ............. n_estimators=1444, max_features=auto, total=  18.8s\n",
      "[CV] n_estimators=1444, max_features=auto ............................\n",
      "[CV] ............. n_estimators=1444, max_features=auto, total=  18.8s\n",
      "[CV] n_estimators=1444, max_features=auto ............................\n",
      "[CV] ............. n_estimators=1444, max_features=auto, total=  18.6s\n",
      "[CV] n_estimators=1888, max_features=auto ............................\n",
      "[CV] ............. n_estimators=1888, max_features=auto, total=  24.6s\n",
      "[CV] n_estimators=1888, max_features=auto ............................\n",
      "[CV] ............. n_estimators=1888, max_features=auto, total=  24.9s\n",
      "[CV] n_estimators=1888, max_features=auto ............................\n",
      "[CV] ............. n_estimators=1888, max_features=auto, total=  24.6s\n",
      "[CV] n_estimators=2333, max_features=auto ............................\n",
      "[CV] ............. n_estimators=2333, max_features=auto, total=  30.2s\n",
      "[CV] n_estimators=2333, max_features=auto ............................\n",
      "[CV] ............. n_estimators=2333, max_features=auto, total=  30.5s\n",
      "[CV] n_estimators=2333, max_features=auto ............................\n",
      "[CV] ............. n_estimators=2333, max_features=auto, total=  31.7s\n",
      "[CV] n_estimators=2777, max_features=auto ............................\n",
      "[CV] ............. n_estimators=2777, max_features=auto, total=  36.2s\n",
      "[CV] n_estimators=2777, max_features=auto ............................\n",
      "[CV] ............. n_estimators=2777, max_features=auto, total=  37.2s\n",
      "[CV] n_estimators=2777, max_features=auto ............................\n",
      "[CV] ............. n_estimators=2777, max_features=auto, total=  36.5s\n",
      "[CV] n_estimators=3222, max_features=auto ............................\n",
      "[CV] ............. n_estimators=3222, max_features=auto, total=  42.6s\n",
      "[CV] n_estimators=3222, max_features=auto ............................\n",
      "[CV] ............. n_estimators=3222, max_features=auto, total=  43.3s\n",
      "[CV] n_estimators=3222, max_features=auto ............................\n",
      "[CV] ............. n_estimators=3222, max_features=auto, total=  43.1s\n",
      "[CV] n_estimators=3666, max_features=auto ............................\n",
      "[CV] ............. n_estimators=3666, max_features=auto, total=  48.5s\n",
      "[CV] n_estimators=3666, max_features=auto ............................\n",
      "[CV] ............. n_estimators=3666, max_features=auto, total=  50.6s\n",
      "[CV] n_estimators=3666, max_features=auto ............................\n",
      "[CV] ............. n_estimators=3666, max_features=auto, total=  50.0s\n",
      "[CV] n_estimators=4111, max_features=auto ............................\n",
      "[CV] ............. n_estimators=4111, max_features=auto, total=  56.1s\n",
      "[CV] n_estimators=4111, max_features=auto ............................\n",
      "[CV] ............. n_estimators=4111, max_features=auto, total=  56.9s\n",
      "[CV] n_estimators=4111, max_features=auto ............................\n",
      "[CV] ............. n_estimators=4111, max_features=auto, total=  54.5s\n",
      "[CV] n_estimators=4555, max_features=auto ............................\n",
      "[CV] ............. n_estimators=4555, max_features=auto, total= 1.0min\n",
      "[CV] n_estimators=4555, max_features=auto ............................\n",
      "[CV] ............. n_estimators=4555, max_features=auto, total= 1.0min\n",
      "[CV] n_estimators=4555, max_features=auto ............................\n",
      "[CV] ............. n_estimators=4555, max_features=auto, total= 1.0min\n",
      "[CV] n_estimators=5000, max_features=auto ............................\n",
      "[CV] ............. n_estimators=5000, max_features=auto, total= 1.1min\n",
      "[CV] n_estimators=5000, max_features=auto ............................\n",
      "[CV] ............. n_estimators=5000, max_features=auto, total= 1.2min\n",
      "[CV] n_estimators=5000, max_features=auto ............................\n",
      "[CV] ............. n_estimators=5000, max_features=auto, total= 1.2min\n",
      "[CV] n_estimators=1000, max_features=sqrt ............................\n",
      "[CV] ............. n_estimators=1000, max_features=sqrt, total=   6.1s\n",
      "[CV] n_estimators=1000, max_features=sqrt ............................\n",
      "[CV] ............. n_estimators=1000, max_features=sqrt, total=   6.1s\n",
      "[CV] n_estimators=1000, max_features=sqrt ............................\n",
      "[CV] ............. n_estimators=1000, max_features=sqrt, total=   6.3s\n",
      "[CV] n_estimators=1444, max_features=sqrt ............................\n",
      "[CV] ............. n_estimators=1444, max_features=sqrt, total=   8.6s\n",
      "[CV] n_estimators=1444, max_features=sqrt ............................\n",
      "[CV] ............. n_estimators=1444, max_features=sqrt, total=   8.8s\n",
      "[CV] n_estimators=1444, max_features=sqrt ............................\n",
      "[CV] ............. n_estimators=1444, max_features=sqrt, total=   8.8s\n",
      "[CV] n_estimators=1888, max_features=sqrt ............................\n",
      "[CV] ............. n_estimators=1888, max_features=sqrt, total=  11.8s\n",
      "[CV] n_estimators=1888, max_features=sqrt ............................\n",
      "[CV] ............. n_estimators=1888, max_features=sqrt, total=  11.5s\n",
      "[CV] n_estimators=1888, max_features=sqrt ............................\n",
      "[CV] ............. n_estimators=1888, max_features=sqrt, total=  11.5s\n",
      "[CV] n_estimators=2333, max_features=sqrt ............................\n",
      "[CV] ............. n_estimators=2333, max_features=sqrt, total=  14.4s\n",
      "[CV] n_estimators=2333, max_features=sqrt ............................\n",
      "[CV] ............. n_estimators=2333, max_features=sqrt, total=  14.3s\n",
      "[CV] n_estimators=2333, max_features=sqrt ............................\n",
      "[CV] ............. n_estimators=2333, max_features=sqrt, total=  15.2s\n",
      "[CV] n_estimators=2777, max_features=sqrt ............................\n",
      "[CV] ............. n_estimators=2777, max_features=sqrt, total=  19.4s\n",
      "[CV] n_estimators=2777, max_features=sqrt ............................\n",
      "[CV] ............. n_estimators=2777, max_features=sqrt, total=  17.9s\n",
      "[CV] n_estimators=2777, max_features=sqrt ............................\n",
      "[CV] ............. n_estimators=2777, max_features=sqrt, total=  17.5s\n",
      "[CV] n_estimators=3222, max_features=sqrt ............................\n",
      "[CV] ............. n_estimators=3222, max_features=sqrt, total=  20.6s\n",
      "[CV] n_estimators=3222, max_features=sqrt ............................\n",
      "[CV] ............. n_estimators=3222, max_features=sqrt, total=  20.3s\n",
      "[CV] n_estimators=3222, max_features=sqrt ............................\n",
      "[CV] ............. n_estimators=3222, max_features=sqrt, total=  23.1s\n",
      "[CV] n_estimators=3666, max_features=sqrt ............................\n",
      "[CV] ............. n_estimators=3666, max_features=sqrt, total=  23.3s\n",
      "[CV] n_estimators=3666, max_features=sqrt ............................\n",
      "[CV] ............. n_estimators=3666, max_features=sqrt, total=  23.7s\n",
      "[CV] n_estimators=3666, max_features=sqrt ............................\n",
      "[CV] ............. n_estimators=3666, max_features=sqrt, total=  22.2s\n",
      "[CV] n_estimators=4111, max_features=sqrt ............................\n",
      "[CV] ............. n_estimators=4111, max_features=sqrt, total=  25.9s\n",
      "[CV] n_estimators=4111, max_features=sqrt ............................\n",
      "[CV] ............. n_estimators=4111, max_features=sqrt, total=  26.0s\n",
      "[CV] n_estimators=4111, max_features=sqrt ............................\n",
      "[CV] ............. n_estimators=4111, max_features=sqrt, total=  25.6s\n",
      "[CV] n_estimators=4555, max_features=sqrt ............................\n",
      "[CV] ............. n_estimators=4555, max_features=sqrt, total=  28.8s\n",
      "[CV] n_estimators=4555, max_features=sqrt ............................\n",
      "[CV] ............. n_estimators=4555, max_features=sqrt, total=  28.7s\n",
      "[CV] n_estimators=4555, max_features=sqrt ............................\n",
      "[CV] ............. n_estimators=4555, max_features=sqrt, total=  28.2s\n",
      "[CV] n_estimators=5000, max_features=sqrt ............................\n",
      "[CV] ............. n_estimators=5000, max_features=sqrt, total=  32.3s\n",
      "[CV] n_estimators=5000, max_features=sqrt ............................\n",
      "[CV] ............. n_estimators=5000, max_features=sqrt, total=  31.5s\n",
      "[CV] n_estimators=5000, max_features=sqrt ............................\n"
     ]
    },
    {
     "name": "stdout",
     "output_type": "stream",
     "text": [
      "[CV] ............. n_estimators=5000, max_features=sqrt, total=  31.5s\n"
     ]
    },
    {
     "name": "stderr",
     "output_type": "stream",
     "text": [
      "[Parallel(n_jobs=1)]: Done  60 out of  60 | elapsed: 29.8min finished\n"
     ]
    },
    {
     "name": "stdout",
     "output_type": "stream",
     "text": [
      "RandomForestRegressor(n_estimators=5000)\n",
      "-0.01808858410362547\n"
     ]
    }
   ],
   "source": [
    "rf_cv = RandomizedSearchCV(estimator = rf, param_distributions=random_grid,\n",
    "                               scoring='neg_mean_squared_error', n_iter = 20, cv = 3, \n",
    "                               verbose=2, random_state=42, n_jobs = 1)\n",
    "\n",
    "rf_cv.fit(x_train,y_train)\n",
    "print(rf_cv.best_estimator_)\n",
    "print(rf_cv.best_score_)"
   ]
  },
  {
   "cell_type": "code",
   "execution_count": 141,
   "metadata": {},
   "outputs": [
    {
     "name": "stdout",
     "output_type": "stream",
     "text": [
      "Root Mean Square Error test = 0.14053832109084843\n"
     ]
    }
   ],
   "source": [
    "#randomforest_cv = rf_cv.fit(x_train, y_train.ravel())\n",
    "randomforest_cv_pred = rf_cv.predict(x_test)                    \n",
    "print(f'Root Mean Square Error test = {score(y_test, randomforest_cv_pred)}')"
   ]
  },
  {
   "cell_type": "markdown",
   "metadata": {},
   "source": [
    "# 5. Predict on Final Test Data"
   ]
  },
  {
   "cell_type": "code",
   "execution_count": 142,
   "metadata": {},
   "outputs": [],
   "source": [
    "#VotingRegressor to predict the final Test\n",
    "vote_test = vote_mod.predict(X_test)\n",
    "final1 = np.expm1(vote_test)\n",
    "\n",
    "#StackingRegressor to predict the final Test\n",
    "stack_test = stregr.predict(X_test)\n",
    "final2 = np.expm1(stack_test)\n",
    "\n",
    "#LassoRegressor to predict the final Test\n",
    "lasso_test = lasso_mod.predict(X_test)\n",
    "final3 = np.expm1(lasso_test)\n",
    "\n",
    "#LassoRegressor to predict the final Test\n",
    "lasso_test = lasso_mod.predict(X_test)\n",
    "final3 = np.expm1(lasso_test)\n",
    "\n",
    "#XGBoost to predict the final test\n",
    "xgmod_test = xgmod.predict(X_test)\n",
    "final4 = np.expm1(xgmod_test)\n",
    "\n",
    "#Random Forest to predict the final test\n",
    "rf_test = rf_cv.predict(X_test)\n",
    "final5 = np.expm1(xgmod_test)"
   ]
  },
  {
   "cell_type": "code",
   "execution_count": 121,
   "metadata": {},
   "outputs": [],
   "source": [
    "#Submission of the results predicted by the average of Voting/Stacking/Lasso\n",
    "final=(0.2*final1+0.6*final2+0.2*final3)"
   ]
  },
  {
   "cell_type": "code",
   "execution_count": 143,
   "metadata": {},
   "outputs": [
    {
     "data": {
      "text/html": [
       "<div>\n",
       "<style scoped>\n",
       "    .dataframe tbody tr th:only-of-type {\n",
       "        vertical-align: middle;\n",
       "    }\n",
       "\n",
       "    .dataframe tbody tr th {\n",
       "        vertical-align: top;\n",
       "    }\n",
       "\n",
       "    .dataframe thead th {\n",
       "        text-align: right;\n",
       "    }\n",
       "</style>\n",
       "<table border=\"1\" class=\"dataframe\">\n",
       "  <thead>\n",
       "    <tr style=\"text-align: right;\">\n",
       "      <th></th>\n",
       "      <th>Price</th>\n",
       "    </tr>\n",
       "  </thead>\n",
       "  <tbody>\n",
       "    <tr>\n",
       "      <th>0</th>\n",
       "      <td>13818.625000</td>\n",
       "    </tr>\n",
       "    <tr>\n",
       "      <th>1</th>\n",
       "      <td>4636.310059</td>\n",
       "    </tr>\n",
       "    <tr>\n",
       "      <th>2</th>\n",
       "      <td>11033.496094</td>\n",
       "    </tr>\n",
       "    <tr>\n",
       "      <th>3</th>\n",
       "      <td>10440.623047</td>\n",
       "    </tr>\n",
       "    <tr>\n",
       "      <th>4</th>\n",
       "      <td>3867.477539</td>\n",
       "    </tr>\n",
       "  </tbody>\n",
       "</table>\n",
       "</div>"
      ],
      "text/plain": [
       "          Price\n",
       "0  13818.625000\n",
       "1   4636.310059\n",
       "2  11033.496094\n",
       "3  10440.623047\n",
       "4   3867.477539"
      ]
     },
     "execution_count": 143,
     "metadata": {},
     "output_type": "execute_result"
    }
   ],
   "source": [
    "final_submission = pd.DataFrame({\n",
    "       \"Price\": final5\n",
    "    })\n",
    "final_submission.to_csv(\"final_submission_with_rfcv.csv\", index=False)\n",
    "final_submission.head()"
   ]
  },
  {
   "cell_type": "markdown",
   "metadata": {},
   "source": [
    "# 6. Export model"
   ]
  },
  {
   "cell_type": "code",
   "execution_count": 144,
   "metadata": {},
   "outputs": [],
   "source": [
    "import pickle "
   ]
  },
  {
   "cell_type": "code",
   "execution_count": 149,
   "metadata": {},
   "outputs": [],
   "source": [
    "#xgboost model picklet\n",
    "pickle.dump(xgmod, open('model_xgboost.pkl', 'wb'))"
   ]
  },
  {
   "cell_type": "code",
   "execution_count": 150,
   "metadata": {},
   "outputs": [],
   "source": [
    "#randomforest model picklet\n",
    "pickle.dump(rf_cv, open('model_randomforest.pkl', 'wb'))"
   ]
  },
  {
   "cell_type": "code",
   "execution_count": 151,
   "metadata": {},
   "outputs": [],
   "source": [
    "#voting regressor model picklet\n",
    "pickle.dump(vote_mod, open('model_votinging_regressor.pkl', 'wb'))"
   ]
  },
  {
   "cell_type": "code",
   "execution_count": 152,
   "metadata": {},
   "outputs": [],
   "source": [
    "#stacking regressor model picklet\n",
    "pickle.dump(stack_mod, open('model_stacking_regressor.pkl', 'wb'))"
   ]
  },
  {
   "cell_type": "code",
   "execution_count": null,
   "metadata": {},
   "outputs": [],
   "source": []
  }
 ],
 "metadata": {
  "kernelspec": {
   "display_name": "Python 3",
   "language": "python",
   "name": "python3"
  },
  "language_info": {
   "codemirror_mode": {
    "name": "ipython",
    "version": 3
   },
   "file_extension": ".py",
   "mimetype": "text/x-python",
   "name": "python",
   "nbconvert_exporter": "python",
   "pygments_lexer": "ipython3",
   "version": "3.7.9"
  }
 },
 "nbformat": 4,
 "nbformat_minor": 4
}
